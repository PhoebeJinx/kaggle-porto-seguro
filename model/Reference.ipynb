{
 "cells": [
  {
   "cell_type": "code",
   "execution_count": 66,
   "metadata": {
    "ExecuteTime": {
     "end_time": "2017-11-03T15:21:34.717608Z",
     "start_time": "2017-11-03T08:21:34.705605-07:00"
    },
    "collapsed": false,
    "scrolled": true
   },
   "outputs": [],
   "source": [
    "import tensorflow as tf\n",
    "import pandas as pd\n",
    "import numpy as np\n",
    "import matplotlib.pyplot as plt\n",
    "import seaborn as sns\n",
    "from sklearn.preprocessing import Imputer, MinMaxScaler, StandardScaler\n",
    "from sklearn.model_selection import StratifiedShuffleSplit\n",
    "%matplotlib inline"
   ]
  },
  {
   "cell_type": "markdown",
   "metadata": {},
   "source": [
    "# Pre-processing"
   ]
  },
  {
   "cell_type": "code",
   "execution_count": 67,
   "metadata": {
    "ExecuteTime": {
     "end_time": "2017-11-03T15:21:45.595070Z",
     "start_time": "2017-11-03T08:21:35.168993-07:00"
    },
    "collapsed": false,
    "scrolled": true
   },
   "outputs": [],
   "source": [
    "train_data_df = pd.read_csv('../data/train.csv')\n",
    "test_data_df = pd.read_csv('../data/test.csv')"
   ]
  },
  {
   "cell_type": "markdown",
   "metadata": {},
   "source": [
    "### Print DataFrame head"
   ]
  },
  {
   "cell_type": "code",
   "execution_count": 68,
   "metadata": {
    "ExecuteTime": {
     "end_time": "2017-11-03T15:21:45.624097Z",
     "start_time": "2017-11-03T08:21:45.595070-07:00"
    },
    "collapsed": false,
    "scrolled": true
   },
   "outputs": [
    {
     "data": {
      "text/html": [
       "<div>\n",
       "<table border=\"1\" class=\"dataframe\">\n",
       "  <thead>\n",
       "    <tr style=\"text-align: right;\">\n",
       "      <th></th>\n",
       "      <th>id</th>\n",
       "      <th>target</th>\n",
       "      <th>ps_ind_01</th>\n",
       "      <th>ps_ind_02_cat</th>\n",
       "      <th>ps_ind_03</th>\n",
       "      <th>ps_ind_04_cat</th>\n",
       "      <th>ps_ind_05_cat</th>\n",
       "      <th>ps_ind_06_bin</th>\n",
       "      <th>ps_ind_07_bin</th>\n",
       "      <th>ps_ind_08_bin</th>\n",
       "      <th>...</th>\n",
       "      <th>ps_calc_11</th>\n",
       "      <th>ps_calc_12</th>\n",
       "      <th>ps_calc_13</th>\n",
       "      <th>ps_calc_14</th>\n",
       "      <th>ps_calc_15_bin</th>\n",
       "      <th>ps_calc_16_bin</th>\n",
       "      <th>ps_calc_17_bin</th>\n",
       "      <th>ps_calc_18_bin</th>\n",
       "      <th>ps_calc_19_bin</th>\n",
       "      <th>ps_calc_20_bin</th>\n",
       "    </tr>\n",
       "  </thead>\n",
       "  <tbody>\n",
       "    <tr>\n",
       "      <th>0</th>\n",
       "      <td>7</td>\n",
       "      <td>0</td>\n",
       "      <td>2</td>\n",
       "      <td>2</td>\n",
       "      <td>5</td>\n",
       "      <td>1</td>\n",
       "      <td>0</td>\n",
       "      <td>0</td>\n",
       "      <td>1</td>\n",
       "      <td>0</td>\n",
       "      <td>...</td>\n",
       "      <td>9</td>\n",
       "      <td>1</td>\n",
       "      <td>5</td>\n",
       "      <td>8</td>\n",
       "      <td>0</td>\n",
       "      <td>1</td>\n",
       "      <td>1</td>\n",
       "      <td>0</td>\n",
       "      <td>0</td>\n",
       "      <td>1</td>\n",
       "    </tr>\n",
       "    <tr>\n",
       "      <th>1</th>\n",
       "      <td>9</td>\n",
       "      <td>0</td>\n",
       "      <td>1</td>\n",
       "      <td>1</td>\n",
       "      <td>7</td>\n",
       "      <td>0</td>\n",
       "      <td>0</td>\n",
       "      <td>0</td>\n",
       "      <td>0</td>\n",
       "      <td>1</td>\n",
       "      <td>...</td>\n",
       "      <td>3</td>\n",
       "      <td>1</td>\n",
       "      <td>1</td>\n",
       "      <td>9</td>\n",
       "      <td>0</td>\n",
       "      <td>1</td>\n",
       "      <td>1</td>\n",
       "      <td>0</td>\n",
       "      <td>1</td>\n",
       "      <td>0</td>\n",
       "    </tr>\n",
       "    <tr>\n",
       "      <th>2</th>\n",
       "      <td>13</td>\n",
       "      <td>0</td>\n",
       "      <td>5</td>\n",
       "      <td>4</td>\n",
       "      <td>9</td>\n",
       "      <td>1</td>\n",
       "      <td>0</td>\n",
       "      <td>0</td>\n",
       "      <td>0</td>\n",
       "      <td>1</td>\n",
       "      <td>...</td>\n",
       "      <td>4</td>\n",
       "      <td>2</td>\n",
       "      <td>7</td>\n",
       "      <td>7</td>\n",
       "      <td>0</td>\n",
       "      <td>1</td>\n",
       "      <td>1</td>\n",
       "      <td>0</td>\n",
       "      <td>1</td>\n",
       "      <td>0</td>\n",
       "    </tr>\n",
       "    <tr>\n",
       "      <th>3</th>\n",
       "      <td>16</td>\n",
       "      <td>0</td>\n",
       "      <td>0</td>\n",
       "      <td>1</td>\n",
       "      <td>2</td>\n",
       "      <td>0</td>\n",
       "      <td>0</td>\n",
       "      <td>1</td>\n",
       "      <td>0</td>\n",
       "      <td>0</td>\n",
       "      <td>...</td>\n",
       "      <td>2</td>\n",
       "      <td>2</td>\n",
       "      <td>4</td>\n",
       "      <td>9</td>\n",
       "      <td>0</td>\n",
       "      <td>0</td>\n",
       "      <td>0</td>\n",
       "      <td>0</td>\n",
       "      <td>0</td>\n",
       "      <td>0</td>\n",
       "    </tr>\n",
       "    <tr>\n",
       "      <th>4</th>\n",
       "      <td>17</td>\n",
       "      <td>0</td>\n",
       "      <td>0</td>\n",
       "      <td>2</td>\n",
       "      <td>0</td>\n",
       "      <td>1</td>\n",
       "      <td>0</td>\n",
       "      <td>1</td>\n",
       "      <td>0</td>\n",
       "      <td>0</td>\n",
       "      <td>...</td>\n",
       "      <td>3</td>\n",
       "      <td>1</td>\n",
       "      <td>1</td>\n",
       "      <td>3</td>\n",
       "      <td>0</td>\n",
       "      <td>0</td>\n",
       "      <td>0</td>\n",
       "      <td>1</td>\n",
       "      <td>1</td>\n",
       "      <td>0</td>\n",
       "    </tr>\n",
       "  </tbody>\n",
       "</table>\n",
       "<p>5 rows × 59 columns</p>\n",
       "</div>"
      ],
      "text/plain": [
       "   id  target  ps_ind_01  ps_ind_02_cat  ps_ind_03  ps_ind_04_cat  \\\n",
       "0   7       0          2              2          5              1   \n",
       "1   9       0          1              1          7              0   \n",
       "2  13       0          5              4          9              1   \n",
       "3  16       0          0              1          2              0   \n",
       "4  17       0          0              2          0              1   \n",
       "\n",
       "   ps_ind_05_cat  ps_ind_06_bin  ps_ind_07_bin  ps_ind_08_bin       ...        \\\n",
       "0              0              0              1              0       ...         \n",
       "1              0              0              0              1       ...         \n",
       "2              0              0              0              1       ...         \n",
       "3              0              1              0              0       ...         \n",
       "4              0              1              0              0       ...         \n",
       "\n",
       "   ps_calc_11  ps_calc_12  ps_calc_13  ps_calc_14  ps_calc_15_bin  \\\n",
       "0           9           1           5           8               0   \n",
       "1           3           1           1           9               0   \n",
       "2           4           2           7           7               0   \n",
       "3           2           2           4           9               0   \n",
       "4           3           1           1           3               0   \n",
       "\n",
       "   ps_calc_16_bin  ps_calc_17_bin  ps_calc_18_bin  ps_calc_19_bin  \\\n",
       "0               1               1               0               0   \n",
       "1               1               1               0               1   \n",
       "2               1               1               0               1   \n",
       "3               0               0               0               0   \n",
       "4               0               0               1               1   \n",
       "\n",
       "   ps_calc_20_bin  \n",
       "0               1  \n",
       "1               0  \n",
       "2               0  \n",
       "3               0  \n",
       "4               0  \n",
       "\n",
       "[5 rows x 59 columns]"
      ]
     },
     "execution_count": 68,
     "metadata": {},
     "output_type": "execute_result"
    }
   ],
   "source": [
    "train_data_df.head()"
   ]
  },
  {
   "cell_type": "code",
   "execution_count": 69,
   "metadata": {
    "ExecuteTime": {
     "end_time": "2017-11-03T15:21:45.636102Z",
     "start_time": "2017-11-03T08:21:45.626098-07:00"
    },
    "collapsed": false
   },
   "outputs": [
    {
     "data": {
      "text/plain": [
       "0   -1\n",
       "1   -1\n",
       "2   -1\n",
       "3    0\n",
       "4   -1\n",
       "Name: ps_car_03_cat, dtype: int64"
      ]
     },
     "execution_count": 69,
     "metadata": {},
     "output_type": "execute_result"
    }
   ],
   "source": [
    "train_data_df['ps_car_03_cat'].head()"
   ]
  },
  {
   "cell_type": "code",
   "execution_count": 70,
   "metadata": {
    "ExecuteTime": {
     "end_time": "2017-11-03T15:21:45.664122Z",
     "start_time": "2017-11-03T08:21:45.638104-07:00"
    },
    "collapsed": false
   },
   "outputs": [
    {
     "data": {
      "text/html": [
       "<div>\n",
       "<table border=\"1\" class=\"dataframe\">\n",
       "  <thead>\n",
       "    <tr style=\"text-align: right;\">\n",
       "      <th></th>\n",
       "      <th>id</th>\n",
       "      <th>ps_ind_01</th>\n",
       "      <th>ps_ind_02_cat</th>\n",
       "      <th>ps_ind_03</th>\n",
       "      <th>ps_ind_04_cat</th>\n",
       "      <th>ps_ind_05_cat</th>\n",
       "      <th>ps_ind_06_bin</th>\n",
       "      <th>ps_ind_07_bin</th>\n",
       "      <th>ps_ind_08_bin</th>\n",
       "      <th>ps_ind_09_bin</th>\n",
       "      <th>...</th>\n",
       "      <th>ps_calc_11</th>\n",
       "      <th>ps_calc_12</th>\n",
       "      <th>ps_calc_13</th>\n",
       "      <th>ps_calc_14</th>\n",
       "      <th>ps_calc_15_bin</th>\n",
       "      <th>ps_calc_16_bin</th>\n",
       "      <th>ps_calc_17_bin</th>\n",
       "      <th>ps_calc_18_bin</th>\n",
       "      <th>ps_calc_19_bin</th>\n",
       "      <th>ps_calc_20_bin</th>\n",
       "    </tr>\n",
       "  </thead>\n",
       "  <tbody>\n",
       "    <tr>\n",
       "      <th>0</th>\n",
       "      <td>0</td>\n",
       "      <td>0</td>\n",
       "      <td>1</td>\n",
       "      <td>8</td>\n",
       "      <td>1</td>\n",
       "      <td>0</td>\n",
       "      <td>0</td>\n",
       "      <td>1</td>\n",
       "      <td>0</td>\n",
       "      <td>0</td>\n",
       "      <td>...</td>\n",
       "      <td>1</td>\n",
       "      <td>1</td>\n",
       "      <td>1</td>\n",
       "      <td>12</td>\n",
       "      <td>0</td>\n",
       "      <td>1</td>\n",
       "      <td>1</td>\n",
       "      <td>0</td>\n",
       "      <td>0</td>\n",
       "      <td>1</td>\n",
       "    </tr>\n",
       "    <tr>\n",
       "      <th>1</th>\n",
       "      <td>1</td>\n",
       "      <td>4</td>\n",
       "      <td>2</td>\n",
       "      <td>5</td>\n",
       "      <td>1</td>\n",
       "      <td>0</td>\n",
       "      <td>0</td>\n",
       "      <td>0</td>\n",
       "      <td>0</td>\n",
       "      <td>1</td>\n",
       "      <td>...</td>\n",
       "      <td>2</td>\n",
       "      <td>0</td>\n",
       "      <td>3</td>\n",
       "      <td>10</td>\n",
       "      <td>0</td>\n",
       "      <td>0</td>\n",
       "      <td>1</td>\n",
       "      <td>1</td>\n",
       "      <td>0</td>\n",
       "      <td>1</td>\n",
       "    </tr>\n",
       "    <tr>\n",
       "      <th>2</th>\n",
       "      <td>2</td>\n",
       "      <td>5</td>\n",
       "      <td>1</td>\n",
       "      <td>3</td>\n",
       "      <td>0</td>\n",
       "      <td>0</td>\n",
       "      <td>0</td>\n",
       "      <td>0</td>\n",
       "      <td>0</td>\n",
       "      <td>1</td>\n",
       "      <td>...</td>\n",
       "      <td>4</td>\n",
       "      <td>0</td>\n",
       "      <td>2</td>\n",
       "      <td>4</td>\n",
       "      <td>0</td>\n",
       "      <td>0</td>\n",
       "      <td>0</td>\n",
       "      <td>0</td>\n",
       "      <td>0</td>\n",
       "      <td>0</td>\n",
       "    </tr>\n",
       "    <tr>\n",
       "      <th>3</th>\n",
       "      <td>3</td>\n",
       "      <td>0</td>\n",
       "      <td>1</td>\n",
       "      <td>6</td>\n",
       "      <td>0</td>\n",
       "      <td>0</td>\n",
       "      <td>1</td>\n",
       "      <td>0</td>\n",
       "      <td>0</td>\n",
       "      <td>0</td>\n",
       "      <td>...</td>\n",
       "      <td>5</td>\n",
       "      <td>1</td>\n",
       "      <td>0</td>\n",
       "      <td>5</td>\n",
       "      <td>1</td>\n",
       "      <td>0</td>\n",
       "      <td>1</td>\n",
       "      <td>0</td>\n",
       "      <td>0</td>\n",
       "      <td>0</td>\n",
       "    </tr>\n",
       "    <tr>\n",
       "      <th>4</th>\n",
       "      <td>4</td>\n",
       "      <td>5</td>\n",
       "      <td>1</td>\n",
       "      <td>7</td>\n",
       "      <td>0</td>\n",
       "      <td>0</td>\n",
       "      <td>0</td>\n",
       "      <td>0</td>\n",
       "      <td>0</td>\n",
       "      <td>1</td>\n",
       "      <td>...</td>\n",
       "      <td>4</td>\n",
       "      <td>0</td>\n",
       "      <td>0</td>\n",
       "      <td>4</td>\n",
       "      <td>0</td>\n",
       "      <td>1</td>\n",
       "      <td>1</td>\n",
       "      <td>0</td>\n",
       "      <td>0</td>\n",
       "      <td>1</td>\n",
       "    </tr>\n",
       "  </tbody>\n",
       "</table>\n",
       "<p>5 rows × 58 columns</p>\n",
       "</div>"
      ],
      "text/plain": [
       "   id  ps_ind_01  ps_ind_02_cat  ps_ind_03  ps_ind_04_cat  ps_ind_05_cat  \\\n",
       "0   0          0              1          8              1              0   \n",
       "1   1          4              2          5              1              0   \n",
       "2   2          5              1          3              0              0   \n",
       "3   3          0              1          6              0              0   \n",
       "4   4          5              1          7              0              0   \n",
       "\n",
       "   ps_ind_06_bin  ps_ind_07_bin  ps_ind_08_bin  ps_ind_09_bin       ...        \\\n",
       "0              0              1              0              0       ...         \n",
       "1              0              0              0              1       ...         \n",
       "2              0              0              0              1       ...         \n",
       "3              1              0              0              0       ...         \n",
       "4              0              0              0              1       ...         \n",
       "\n",
       "   ps_calc_11  ps_calc_12  ps_calc_13  ps_calc_14  ps_calc_15_bin  \\\n",
       "0           1           1           1          12               0   \n",
       "1           2           0           3          10               0   \n",
       "2           4           0           2           4               0   \n",
       "3           5           1           0           5               1   \n",
       "4           4           0           0           4               0   \n",
       "\n",
       "   ps_calc_16_bin  ps_calc_17_bin  ps_calc_18_bin  ps_calc_19_bin  \\\n",
       "0               1               1               0               0   \n",
       "1               0               1               1               0   \n",
       "2               0               0               0               0   \n",
       "3               0               1               0               0   \n",
       "4               1               1               0               0   \n",
       "\n",
       "   ps_calc_20_bin  \n",
       "0               1  \n",
       "1               1  \n",
       "2               0  \n",
       "3               0  \n",
       "4               1  \n",
       "\n",
       "[5 rows x 58 columns]"
      ]
     },
     "execution_count": 70,
     "metadata": {},
     "output_type": "execute_result"
    }
   ],
   "source": [
    "test_data_df.head()"
   ]
  },
  {
   "cell_type": "markdown",
   "metadata": {},
   "source": [
    "## Original data shape"
   ]
  },
  {
   "cell_type": "code",
   "execution_count": 71,
   "metadata": {
    "ExecuteTime": {
     "end_time": "2017-11-03T15:21:45.671114Z",
     "start_time": "2017-11-03T08:21:45.666114-07:00"
    },
    "collapsed": false,
    "scrolled": true
   },
   "outputs": [
    {
     "data": {
      "text/plain": [
       "(595212, 59)"
      ]
     },
     "execution_count": 71,
     "metadata": {},
     "output_type": "execute_result"
    }
   ],
   "source": [
    "train_data_df.shape"
   ]
  },
  {
   "cell_type": "code",
   "execution_count": 72,
   "metadata": {
    "ExecuteTime": {
     "end_time": "2017-11-03T15:21:53.402508Z",
     "start_time": "2017-11-03T08:21:53.396506-07:00"
    },
    "collapsed": false,
    "scrolled": true
   },
   "outputs": [
    {
     "data": {
      "text/plain": [
       "(892816, 58)"
      ]
     },
     "execution_count": 72,
     "metadata": {},
     "output_type": "execute_result"
    }
   ],
   "source": [
    "test_data_df.shape"
   ]
  },
  {
   "cell_type": "markdown",
   "metadata": {},
   "source": [
    "## Column Names"
   ]
  },
  {
   "cell_type": "code",
   "execution_count": 73,
   "metadata": {
    "ExecuteTime": {
     "end_time": "2017-11-03T15:21:54.229356Z",
     "start_time": "2017-11-03T08:21:54.223353-07:00"
    },
    "collapsed": false,
    "scrolled": true
   },
   "outputs": [
    {
     "data": {
      "text/plain": [
       "Index(['id', 'target', 'ps_ind_01', 'ps_ind_02_cat', 'ps_ind_03',\n",
       "       'ps_ind_04_cat', 'ps_ind_05_cat', 'ps_ind_06_bin', 'ps_ind_07_bin',\n",
       "       'ps_ind_08_bin', 'ps_ind_09_bin', 'ps_ind_10_bin', 'ps_ind_11_bin',\n",
       "       'ps_ind_12_bin', 'ps_ind_13_bin', 'ps_ind_14', 'ps_ind_15',\n",
       "       'ps_ind_16_bin', 'ps_ind_17_bin', 'ps_ind_18_bin', 'ps_reg_01',\n",
       "       'ps_reg_02', 'ps_reg_03', 'ps_car_01_cat', 'ps_car_02_cat',\n",
       "       'ps_car_03_cat', 'ps_car_04_cat', 'ps_car_05_cat', 'ps_car_06_cat',\n",
       "       'ps_car_07_cat', 'ps_car_08_cat', 'ps_car_09_cat', 'ps_car_10_cat',\n",
       "       'ps_car_11_cat', 'ps_car_11', 'ps_car_12', 'ps_car_13', 'ps_car_14',\n",
       "       'ps_car_15', 'ps_calc_01', 'ps_calc_02', 'ps_calc_03', 'ps_calc_04',\n",
       "       'ps_calc_05', 'ps_calc_06', 'ps_calc_07', 'ps_calc_08', 'ps_calc_09',\n",
       "       'ps_calc_10', 'ps_calc_11', 'ps_calc_12', 'ps_calc_13', 'ps_calc_14',\n",
       "       'ps_calc_15_bin', 'ps_calc_16_bin', 'ps_calc_17_bin', 'ps_calc_18_bin',\n",
       "       'ps_calc_19_bin', 'ps_calc_20_bin'],\n",
       "      dtype='object')"
      ]
     },
     "execution_count": 73,
     "metadata": {},
     "output_type": "execute_result"
    }
   ],
   "source": [
    "train_data_df.columns"
   ]
  },
  {
   "cell_type": "markdown",
   "metadata": {},
   "source": [
    "## Drop duplicates"
   ]
  },
  {
   "cell_type": "code",
   "execution_count": 74,
   "metadata": {
    "ExecuteTime": {
     "end_time": "2017-11-03T15:21:58.042417Z",
     "start_time": "2017-11-03T08:21:55.317892-07:00"
    },
    "collapsed": false,
    "scrolled": true
   },
   "outputs": [],
   "source": [
    "train_data_df.drop_duplicates(inplace=True)\n",
    "test_data_df.drop_duplicates(inplace=True)"
   ]
  },
  {
   "cell_type": "markdown",
   "metadata": {},
   "source": [
    "## Replace missing values: `-1` with `np.nan`"
   ]
  },
  {
   "cell_type": "code",
   "execution_count": 11,
   "metadata": {
    "ExecuteTime": {
     "end_time": "2017-11-03T00:10:57.817940Z",
     "start_time": "2017-11-02T17:10:56.708137-07:00"
    },
    "collapsed": false,
    "scrolled": false
   },
   "outputs": [],
   "source": [
    "train_data_df.replace(-1, np.nan, inplace=True)\n",
    "test_data_df.replace(-1, np.nan, inplace=True)"
   ]
  },
  {
   "cell_type": "markdown",
   "metadata": {},
   "source": [
    "## Initial count of missing values by column (or feature)"
   ]
  },
  {
   "cell_type": "code",
   "execution_count": 75,
   "metadata": {
    "ExecuteTime": {
     "end_time": "2017-11-03T15:22:03.660382Z",
     "start_time": "2017-11-03T08:22:03.133472-07:00"
    },
    "collapsed": false,
    "scrolled": true
   },
   "outputs": [
    {
     "data": {
      "text/plain": [
       "id                0\n",
       "target            0\n",
       "ps_ind_01         0\n",
       "ps_ind_02_cat     0\n",
       "ps_ind_03         0\n",
       "ps_ind_04_cat     0\n",
       "ps_ind_05_cat     0\n",
       "ps_ind_06_bin     0\n",
       "ps_ind_07_bin     0\n",
       "ps_ind_08_bin     0\n",
       "ps_ind_09_bin     0\n",
       "ps_ind_10_bin     0\n",
       "ps_ind_11_bin     0\n",
       "ps_ind_12_bin     0\n",
       "ps_ind_13_bin     0\n",
       "ps_ind_14         0\n",
       "ps_ind_15         0\n",
       "ps_ind_16_bin     0\n",
       "ps_ind_17_bin     0\n",
       "ps_ind_18_bin     0\n",
       "ps_reg_01         0\n",
       "ps_reg_02         0\n",
       "ps_reg_03         0\n",
       "ps_car_01_cat     0\n",
       "ps_car_02_cat     0\n",
       "ps_car_03_cat     0\n",
       "ps_car_04_cat     0\n",
       "ps_car_05_cat     0\n",
       "ps_car_06_cat     0\n",
       "ps_car_07_cat     0\n",
       "ps_car_08_cat     0\n",
       "ps_car_09_cat     0\n",
       "ps_car_10_cat     0\n",
       "ps_car_11_cat     0\n",
       "ps_car_11         0\n",
       "ps_car_12         0\n",
       "ps_car_13         0\n",
       "ps_car_14         0\n",
       "ps_car_15         0\n",
       "ps_calc_01        0\n",
       "ps_calc_02        0\n",
       "ps_calc_03        0\n",
       "ps_calc_04        0\n",
       "ps_calc_05        0\n",
       "ps_calc_06        0\n",
       "ps_calc_07        0\n",
       "ps_calc_08        0\n",
       "ps_calc_09        0\n",
       "ps_calc_10        0\n",
       "ps_calc_11        0\n",
       "ps_calc_12        0\n",
       "ps_calc_13        0\n",
       "ps_calc_14        0\n",
       "ps_calc_15_bin    0\n",
       "ps_calc_16_bin    0\n",
       "ps_calc_17_bin    0\n",
       "ps_calc_18_bin    0\n",
       "ps_calc_19_bin    0\n",
       "ps_calc_20_bin    0\n",
       "dtype: int64"
      ]
     },
     "execution_count": 75,
     "metadata": {},
     "output_type": "execute_result"
    }
   ],
   "source": [
    "train_data_df.isnull().sum()"
   ]
  },
  {
   "cell_type": "code",
   "execution_count": 76,
   "metadata": {
    "ExecuteTime": {
     "end_time": "2017-11-03T15:22:09.952451Z",
     "start_time": "2017-11-03T08:22:09.203604-07:00"
    },
    "collapsed": false
   },
   "outputs": [
    {
     "data": {
      "text/plain": [
       "id                0\n",
       "ps_ind_01         0\n",
       "ps_ind_02_cat     0\n",
       "ps_ind_03         0\n",
       "ps_ind_04_cat     0\n",
       "ps_ind_05_cat     0\n",
       "ps_ind_06_bin     0\n",
       "ps_ind_07_bin     0\n",
       "ps_ind_08_bin     0\n",
       "ps_ind_09_bin     0\n",
       "ps_ind_10_bin     0\n",
       "ps_ind_11_bin     0\n",
       "ps_ind_12_bin     0\n",
       "ps_ind_13_bin     0\n",
       "ps_ind_14         0\n",
       "ps_ind_15         0\n",
       "ps_ind_16_bin     0\n",
       "ps_ind_17_bin     0\n",
       "ps_ind_18_bin     0\n",
       "ps_reg_01         0\n",
       "ps_reg_02         0\n",
       "ps_reg_03         0\n",
       "ps_car_01_cat     0\n",
       "ps_car_02_cat     0\n",
       "ps_car_03_cat     0\n",
       "ps_car_04_cat     0\n",
       "ps_car_05_cat     0\n",
       "ps_car_06_cat     0\n",
       "ps_car_07_cat     0\n",
       "ps_car_08_cat     0\n",
       "ps_car_09_cat     0\n",
       "ps_car_10_cat     0\n",
       "ps_car_11_cat     0\n",
       "ps_car_11         0\n",
       "ps_car_12         0\n",
       "ps_car_13         0\n",
       "ps_car_14         0\n",
       "ps_car_15         0\n",
       "ps_calc_01        0\n",
       "ps_calc_02        0\n",
       "ps_calc_03        0\n",
       "ps_calc_04        0\n",
       "ps_calc_05        0\n",
       "ps_calc_06        0\n",
       "ps_calc_07        0\n",
       "ps_calc_08        0\n",
       "ps_calc_09        0\n",
       "ps_calc_10        0\n",
       "ps_calc_11        0\n",
       "ps_calc_12        0\n",
       "ps_calc_13        0\n",
       "ps_calc_14        0\n",
       "ps_calc_15_bin    0\n",
       "ps_calc_16_bin    0\n",
       "ps_calc_17_bin    0\n",
       "ps_calc_18_bin    0\n",
       "ps_calc_19_bin    0\n",
       "ps_calc_20_bin    0\n",
       "dtype: int64"
      ]
     },
     "execution_count": 76,
     "metadata": {},
     "output_type": "execute_result"
    }
   ],
   "source": [
    "test_data_df.isnull().sum()"
   ]
  },
  {
   "cell_type": "markdown",
   "metadata": {},
   "source": [
    "## Drop features in both training and testing sets"
   ]
  },
  {
   "cell_type": "code",
   "execution_count": 14,
   "metadata": {
    "ExecuteTime": {
     "end_time": "2017-11-03T00:10:59.096767Z",
     "start_time": "2017-11-02T17:10:59.092764-07:00"
    },
    "collapsed": false,
    "scrolled": true
   },
   "outputs": [
    {
     "data": {
      "text/plain": [
       "\"\\ndrop_labels = ['ps_car_03_cat', 'ps_car_05_cat']\\ntrain_data_df.drop(labels=drop_labels, axis=1, inplace=True)\\ntest_data_df.drop(labels=drop_labels, axis=1, inplace=True)\\n\""
      ]
     },
     "execution_count": 14,
     "metadata": {},
     "output_type": "execute_result"
    }
   ],
   "source": [
    "# Drop columns / features in `drop_labels` list\n",
    "'''\n",
    "drop_labels = ['ps_car_03_cat', 'ps_car_05_cat']\n",
    "train_data_df.drop(labels=drop_labels, axis=1, inplace=True)\n",
    "test_data_df.drop(labels=drop_labels, axis=1, inplace=True)\n",
    "'''"
   ]
  },
  {
   "cell_type": "markdown",
   "metadata": {},
   "source": [
    "## Visualize distribution of columns with missing values"
   ]
  },
  {
   "cell_type": "code",
   "execution_count": 77,
   "metadata": {
    "ExecuteTime": {
     "end_time": "2017-11-03T15:22:22.153714Z",
     "start_time": "2017-11-03T08:22:17.097616-07:00"
    },
    "collapsed": false
   },
   "outputs": [
    {
     "data": {
      "image/png": "[encoded data removed]",
      "text/plain": [
       "<matplotlib.figure.Figure at 0x23783877780>"
      ]
     },
     "metadata": {},
     "output_type": "display_data"
    }
   ],
   "source": [
    "train_data_df.ps_ind_05_cat.plot.hist(bins=20)\n",
    "plt.show()"
   ]
  },
  {
   "cell_type": "code",
   "execution_count": 78,
   "metadata": {
    "ExecuteTime": {
     "end_time": "2017-11-03T15:22:22.162716Z",
     "start_time": "2017-11-03T08:22:22.155714-07:00"
    },
    "collapsed": false,
    "scrolled": false
   },
   "outputs": [],
   "source": [
    "# IMPORTANT: Check missing labels in both training and test sets\n",
    "missing_labels_trn = ['ps_ind_02_cat', \n",
    "                      'ps_ind_04_cat', \n",
    "                      'ps_ind_05_cat',\n",
    "                      'ps_reg_03',\n",
    "                      'ps_car_01_cat',\n",
    "                      'ps_car_02_cat',\n",
    "                      'ps_car_07_cat',\n",
    "                      'ps_car_09_cat',\n",
    "                      'ps_car_11',\n",
    "                      'ps_car_12', # only in training set\n",
    "                      'ps_car_14'\n",
    "                     ]\n",
    "\n",
    "missing_labels_test = ['ps_ind_02_cat', \n",
    "                      'ps_ind_04_cat', \n",
    "                      'ps_ind_05_cat',\n",
    "                      'ps_reg_03',\n",
    "                      'ps_car_01_cat',\n",
    "                      'ps_car_02_cat',\n",
    "                      'ps_car_07_cat',\n",
    "                      'ps_car_09_cat',\n",
    "                      'ps_car_11',\n",
    "                      'ps_car_14'\n",
    "                     ]"
   ]
  },
  {
   "cell_type": "markdown",
   "metadata": {},
   "source": [
    "### Fill in missing values "
   ]
  },
  {
   "cell_type": "code",
   "execution_count": 17,
   "metadata": {
    "ExecuteTime": {
     "end_time": "2017-11-03T00:11:04.299586Z",
     "start_time": "2017-11-02T17:11:04.228559-07:00"
    },
    "collapsed": false
   },
   "outputs": [],
   "source": [
    "# Fill in missing values based on individual column(feature) distributions\n",
    "train_data_df.fillna(value=0, inplace=True)\n",
    "test_data_df.fillna(value=0, inplace=True)\n"
   ]
  },
  {
   "cell_type": "markdown",
   "metadata": {},
   "source": [
    "### Final count of missing values by column (or feature)"
   ]
  },
  {
   "cell_type": "code",
   "execution_count": 79,
   "metadata": {
    "ExecuteTime": {
     "end_time": "2017-11-03T15:22:32.597867Z",
     "start_time": "2017-11-03T08:22:32.059563-07:00"
    },
    "collapsed": false,
    "scrolled": true
   },
   "outputs": [
    {
     "data": {
      "text/plain": [
       "id                0\n",
       "target            0\n",
       "ps_ind_01         0\n",
       "ps_ind_02_cat     0\n",
       "ps_ind_03         0\n",
       "ps_ind_04_cat     0\n",
       "ps_ind_05_cat     0\n",
       "ps_ind_06_bin     0\n",
       "ps_ind_07_bin     0\n",
       "ps_ind_08_bin     0\n",
       "ps_ind_09_bin     0\n",
       "ps_ind_10_bin     0\n",
       "ps_ind_11_bin     0\n",
       "ps_ind_12_bin     0\n",
       "ps_ind_13_bin     0\n",
       "ps_ind_14         0\n",
       "ps_ind_15         0\n",
       "ps_ind_16_bin     0\n",
       "ps_ind_17_bin     0\n",
       "ps_ind_18_bin     0\n",
       "ps_reg_01         0\n",
       "ps_reg_02         0\n",
       "ps_reg_03         0\n",
       "ps_car_01_cat     0\n",
       "ps_car_02_cat     0\n",
       "ps_car_03_cat     0\n",
       "ps_car_04_cat     0\n",
       "ps_car_05_cat     0\n",
       "ps_car_06_cat     0\n",
       "ps_car_07_cat     0\n",
       "ps_car_08_cat     0\n",
       "ps_car_09_cat     0\n",
       "ps_car_10_cat     0\n",
       "ps_car_11_cat     0\n",
       "ps_car_11         0\n",
       "ps_car_12         0\n",
       "ps_car_13         0\n",
       "ps_car_14         0\n",
       "ps_car_15         0\n",
       "ps_calc_01        0\n",
       "ps_calc_02        0\n",
       "ps_calc_03        0\n",
       "ps_calc_04        0\n",
       "ps_calc_05        0\n",
       "ps_calc_06        0\n",
       "ps_calc_07        0\n",
       "ps_calc_08        0\n",
       "ps_calc_09        0\n",
       "ps_calc_10        0\n",
       "ps_calc_11        0\n",
       "ps_calc_12        0\n",
       "ps_calc_13        0\n",
       "ps_calc_14        0\n",
       "ps_calc_15_bin    0\n",
       "ps_calc_16_bin    0\n",
       "ps_calc_17_bin    0\n",
       "ps_calc_18_bin    0\n",
       "ps_calc_19_bin    0\n",
       "ps_calc_20_bin    0\n",
       "dtype: int64"
      ]
     },
     "execution_count": 79,
     "metadata": {},
     "output_type": "execute_result"
    }
   ],
   "source": [
    "# Confirm there are zero missing values in training set\n",
    "train_data_df.isnull().sum()"
   ]
  },
  {
   "cell_type": "code",
   "execution_count": 80,
   "metadata": {
    "ExecuteTime": {
     "end_time": "2017-11-03T15:22:36.427425Z",
     "start_time": "2017-11-03T08:22:35.681731-07:00"
    },
    "collapsed": false,
    "scrolled": true
   },
   "outputs": [
    {
     "data": {
      "text/plain": [
       "id                0\n",
       "ps_ind_01         0\n",
       "ps_ind_02_cat     0\n",
       "ps_ind_03         0\n",
       "ps_ind_04_cat     0\n",
       "ps_ind_05_cat     0\n",
       "ps_ind_06_bin     0\n",
       "ps_ind_07_bin     0\n",
       "ps_ind_08_bin     0\n",
       "ps_ind_09_bin     0\n",
       "ps_ind_10_bin     0\n",
       "ps_ind_11_bin     0\n",
       "ps_ind_12_bin     0\n",
       "ps_ind_13_bin     0\n",
       "ps_ind_14         0\n",
       "ps_ind_15         0\n",
       "ps_ind_16_bin     0\n",
       "ps_ind_17_bin     0\n",
       "ps_ind_18_bin     0\n",
       "ps_reg_01         0\n",
       "ps_reg_02         0\n",
       "ps_reg_03         0\n",
       "ps_car_01_cat     0\n",
       "ps_car_02_cat     0\n",
       "ps_car_03_cat     0\n",
       "ps_car_04_cat     0\n",
       "ps_car_05_cat     0\n",
       "ps_car_06_cat     0\n",
       "ps_car_07_cat     0\n",
       "ps_car_08_cat     0\n",
       "ps_car_09_cat     0\n",
       "ps_car_10_cat     0\n",
       "ps_car_11_cat     0\n",
       "ps_car_11         0\n",
       "ps_car_12         0\n",
       "ps_car_13         0\n",
       "ps_car_14         0\n",
       "ps_car_15         0\n",
       "ps_calc_01        0\n",
       "ps_calc_02        0\n",
       "ps_calc_03        0\n",
       "ps_calc_04        0\n",
       "ps_calc_05        0\n",
       "ps_calc_06        0\n",
       "ps_calc_07        0\n",
       "ps_calc_08        0\n",
       "ps_calc_09        0\n",
       "ps_calc_10        0\n",
       "ps_calc_11        0\n",
       "ps_calc_12        0\n",
       "ps_calc_13        0\n",
       "ps_calc_14        0\n",
       "ps_calc_15_bin    0\n",
       "ps_calc_16_bin    0\n",
       "ps_calc_17_bin    0\n",
       "ps_calc_18_bin    0\n",
       "ps_calc_19_bin    0\n",
       "ps_calc_20_bin    0\n",
       "dtype: int64"
      ]
     },
     "execution_count": 80,
     "metadata": {},
     "output_type": "execute_result"
    }
   ],
   "source": [
    "# Confirm there are zero missing values in testing set\n",
    "test_data_df.isnull().sum()"
   ]
  },
  {
   "cell_type": "code",
   "execution_count": 81,
   "metadata": {
    "ExecuteTime": {
     "end_time": "2017-11-03T15:22:36.757057Z",
     "start_time": "2017-11-03T08:22:36.722046-07:00"
    },
    "collapsed": false
   },
   "outputs": [
    {
     "data": {
      "text/plain": [
       "0        -1\n",
       "1        -1\n",
       "2        -1\n",
       "3         0\n",
       "4        -1\n",
       "5        -1\n",
       "6        -1\n",
       "7         0\n",
       "8        -1\n",
       "9         0\n",
       "10       -1\n",
       "11       -1\n",
       "12       -1\n",
       "13        0\n",
       "14       -1\n",
       "15       -1\n",
       "16       -1\n",
       "17        1\n",
       "18       -1\n",
       "19       -1\n",
       "20       -1\n",
       "21       -1\n",
       "22        0\n",
       "23       -1\n",
       "24       -1\n",
       "25       -1\n",
       "26       -1\n",
       "27       -1\n",
       "28       -1\n",
       "29       -1\n",
       "         ..\n",
       "595182   -1\n",
       "595183   -1\n",
       "595184   -1\n",
       "595185    1\n",
       "595186    0\n",
       "595187   -1\n",
       "595188   -1\n",
       "595189    0\n",
       "595190   -1\n",
       "595191   -1\n",
       "595192   -1\n",
       "595193    0\n",
       "595194    0\n",
       "595195    1\n",
       "595196   -1\n",
       "595197   -1\n",
       "595198    1\n",
       "595199    1\n",
       "595200   -1\n",
       "595201    0\n",
       "595202    0\n",
       "595203    1\n",
       "595204   -1\n",
       "595205    0\n",
       "595206   -1\n",
       "595207   -1\n",
       "595208   -1\n",
       "595209   -1\n",
       "595210   -1\n",
       "595211   -1\n",
       "Name: ps_car_03_cat, dtype: int64"
      ]
     },
     "execution_count": 81,
     "metadata": {},
     "output_type": "execute_result"
    }
   ],
   "source": [
    "train_data_df['ps_car_03_cat']"
   ]
  },
  {
   "cell_type": "markdown",
   "metadata": {},
   "source": [
    "### Load Data Function"
   ]
  },
  {
   "cell_type": "code",
   "execution_count": 82,
   "metadata": {
    "ExecuteTime": {
     "end_time": "2017-11-03T15:22:38.002986Z",
     "start_time": "2017-11-03T08:22:37.991983-07:00"
    },
    "collapsed": false
   },
   "outputs": [],
   "source": [
    "def load_data(input_train, input_test):\n",
    "    '''\n",
    "    Loads and partitions data into features, labels, and ids\n",
    "    Args:\n",
    "    input_train: pre-processed training data as a pandas dataframe\n",
    "    input_test: pre-processed test data as a pandas dataframe\n",
    "    Returns:\n",
    "    train: training data (excludes id and target columns)\n",
    "    train_labels: target values as a numpy array\n",
    "    test: test data (excludes id column)\n",
    "    train_ids: training data id's as a numpy array\n",
    "    test_id: test data id's as a numpy array\n",
    "    '''\n",
    "    #train_loader = pd.read_csv(path_train, dtype={'target': np.int8, 'id': np.int32})\n",
    "    train = input_train.drop(['target', 'id'], axis=1)\n",
    "    train_labels = input_train['target'].values\n",
    "    train_ids = input_train['id'].values\n",
    "    print('\\nShape of raw train data:', train.shape)\n",
    "\n",
    "    #test_loader = pd.read_csv(path_test, dtype={'id': np.int32})\n",
    "    test = input_test.drop(['id'], axis=1)\n",
    "    test_ids = input_test['id'].values\n",
    "    print('\\nShape of raw test data:', test.shape)\n",
    "\n",
    "    return train, train_labels, test, train_ids, test_ids"
   ]
  },
  {
   "cell_type": "markdown",
   "metadata": {},
   "source": [
    "### Feature Scaling Function"
   ]
  },
  {
   "cell_type": "code",
   "execution_count": 83,
   "metadata": {
    "ExecuteTime": {
     "end_time": "2017-11-03T15:22:41.079987Z",
     "start_time": "2017-11-03T08:22:41.070983-07:00"
    },
    "collapsed": true
   },
   "outputs": [],
   "source": [
    "def scale_data(input_data, scaler=None):\n",
    "    if not scaler:\n",
    "        scaler = MinMaxScaler(feature_range=(0, 1))\n",
    "    scaler.fit(input_data)\n",
    "    output_scaled = scaler.transform(input_data)\n",
    "    return output_scaled, scaler\n",
    "    "
   ]
  },
  {
   "cell_type": "markdown",
   "metadata": {},
   "source": [
    "### Timer"
   ]
  },
  {
   "cell_type": "code",
   "execution_count": 84,
   "metadata": {
    "ExecuteTime": {
     "end_time": "2017-11-03T15:22:48.776397Z",
     "start_time": "2017-11-03T08:22:48.769396-07:00"
    },
    "collapsed": true
   },
   "outputs": [],
   "source": [
    "def timer(start_time=None):\n",
    "    if not start_time:\n",
    "        start_time = datetime.now()\n",
    "        return start_time\n",
    "    elif start_time:\n",
    "        thour, temp_sec = divmod(\n",
    "            (datetime.now() - start_time).total_seconds(), 3600)\n",
    "        tmin, tsec = divmod(temp_sec, 60)\n",
    "        print('\\n Time taken: %i hours %i minutes and %s seconds.' %\n",
    "              (thour, tmin, round(tsec, 2)))\n"
   ]
  },
  {
   "cell_type": "markdown",
   "metadata": {},
   "source": [
    "## MODEL"
   ]
  },
  {
   "cell_type": "markdown",
   "metadata": {},
   "source": [
    "### Segment data"
   ]
  },
  {
   "cell_type": "code",
   "execution_count": 85,
   "metadata": {
    "ExecuteTime": {
     "end_time": "2017-11-03T15:23:02.726729Z",
     "start_time": "2017-11-03T08:22:58.534004-07:00"
    },
    "collapsed": false
   },
   "outputs": [
    {
     "name": "stdout",
     "output_type": "stream",
     "text": [
      "\n",
      "Shape of raw train data: (595212, 57)\n",
      "\n",
      "Shape of raw test data: (892816, 57)\n"
     ]
    }
   ],
   "source": [
    "# Load data set and target values\n",
    "train, targets, test, train_ids, test_ids = load_data(train_data_df, test_data_df)\n",
    "# Nuber of training examples\n",
    "n_train = train.shape[0]\n",
    "# Combine training and test sets\n",
    "train_test = pd.concat((train, test)).reset_index(drop=True)\n",
    "# Scale combined data sets\n",
    "train_test_scaled, _ = scale_data(train_test, scaler=StandardScaler())"
   ]
  },
  {
   "cell_type": "code",
   "execution_count": 86,
   "metadata": {
    "ExecuteTime": {
     "end_time": "2017-11-03T15:23:02.732604Z",
     "start_time": "2017-11-03T08:23:02.726729-07:00"
    },
    "collapsed": false
   },
   "outputs": [],
   "source": [
    "targets = targets.reshape([-1, 1])"
   ]
  },
  {
   "cell_type": "code",
   "execution_count": 87,
   "metadata": {
    "ExecuteTime": {
     "end_time": "2017-11-03T15:23:02.742606Z",
     "start_time": "2017-11-03T08:23:02.734603-07:00"
    },
    "collapsed": false
   },
   "outputs": [
    {
     "data": {
      "text/plain": [
       "(595212, 1)"
      ]
     },
     "execution_count": 87,
     "metadata": {},
     "output_type": "execute_result"
    }
   ],
   "source": [
    "targets.shape"
   ]
  },
  {
   "cell_type": "code",
   "execution_count": 88,
   "metadata": {
    "ExecuteTime": {
     "end_time": "2017-11-03T15:23:05.965785Z",
     "start_time": "2017-11-03T08:23:05.907764-07:00"
    },
    "collapsed": false
   },
   "outputs": [
    {
     "name": "stdout",
     "output_type": "stream",
     "text": [
      "\n",
      " Shape of processed train data: (595212, 57)\n",
      " Shape of processed test data: (892816, 57)\n"
     ]
    }
   ],
   "source": [
    "# Split train and test sets\n",
    "train = train_test_scaled[:n_train, :]\n",
    "test = train_test_scaled[n_train:, :]\n",
    "print('\\n Shape of processed train data:', train.shape)\n",
    "print(' Shape of processed test data:', test.shape)"
   ]
  },
  {
   "cell_type": "markdown",
   "metadata": {},
   "source": [
    "### Randomly split training data into training and validation sets"
   ]
  },
  {
   "cell_type": "code",
   "execution_count": 89,
   "metadata": {
    "ExecuteTime": {
     "end_time": "2017-11-03T15:23:07.928297Z",
     "start_time": "2017-11-03T08:23:07.920293-07:00"
    },
    "collapsed": false
   },
   "outputs": [],
   "source": [
    "# Split training data into training sets and validation sets\n",
    "# Test sets are not affected\n",
    "\n",
    "def train_val_set(train_data, target, n_splits=1, test_size=0.03):\n",
    "    ss = StratifiedShuffleSplit(n_splits=n_splits, \n",
    "                                test_size=test_size, \n",
    "                               )\n",
    "    train_idx, val_idx = next(ss.split(train_data, target))\n",
    "    train_x, train_y = train_data[train_idx], target[train_idx]\n",
    "    val_x, val_y = train_data[val_idx], target[val_idx]\n",
    "    return train_x, train_y, val_x, val_y"
   ]
  },
  {
   "cell_type": "code",
   "execution_count": 90,
   "metadata": {
    "ExecuteTime": {
     "end_time": "2017-11-03T15:24:51.700687Z",
     "start_time": "2017-11-03T08:23:09.215074-07:00"
    },
    "collapsed": false,
    "scrolled": true
   },
   "outputs": [
    {
     "name": "stdout",
     "output_type": "stream",
     "text": [
      "Train shapes (x, y): (577355, 57) (577355, 1)\n",
      "Validation shapes (x, y): (17857, 57) (17857, 1)\n",
      "Test shapes (x, y): (892816, 57)\n"
     ]
    }
   ],
   "source": [
    "train_x, train_y, val_x, val_y = train_val_set(train, targets)\n",
    "# Check data shapes\n",
    "print(\"Train shapes (x, y):\", train_x.shape, train_y.shape)\n",
    "print(\"Validation shapes (x, y):\", val_x.shape, val_y.shape)\n",
    "print(\"Test shapes (x, y):\", test.shape)"
   ]
  },
  {
   "cell_type": "markdown",
   "metadata": {},
   "source": [
    "### Model Metrics"
   ]
  },
  {
   "cell_type": "code",
   "execution_count": 91,
   "metadata": {
    "ExecuteTime": {
     "end_time": "2017-11-03T15:24:51.706689Z",
     "start_time": "2017-11-03T08:24:51.701688-07:00"
    },
    "collapsed": true
   },
   "outputs": [],
   "source": [
    "# Model Metrics\n",
    "cv_LL = 0\n",
    "cv_AUC = 0\n",
    "cv_gini = 0\n",
    "fpred = []\n",
    "avpred = []\n",
    "avreal = []\n",
    "avids = []"
   ]
  },
  {
   "cell_type": "markdown",
   "metadata": {
    "collapsed": true
   },
   "source": [
    "### Normalized Gini Coefficient Implementation"
   ]
  },
  {
   "cell_type": "code",
   "execution_count": 92,
   "metadata": {
    "ExecuteTime": {
     "end_time": "2017-11-03T15:24:51.720692Z",
     "start_time": "2017-11-03T08:24:51.708689-07:00"
    },
    "collapsed": false
   },
   "outputs": [],
   "source": [
    "# Implement normalized Gini coefficient functions\n",
    "\n",
    "# https://www.kaggle.com/c/ClaimPredictionChallenge/discussion/703\n",
    "def gini(actual, pred, cmpcol = 0, sortcol = 1):\n",
    "    '''\n",
    "    actual: ground truth target values\n",
    "    pred: our model predictions based on test set\n",
    "    '''\n",
    "    assert(len(actual) == len(pred))\n",
    "    all = np.asarray(np.c_[actual, pred, np.arange(len(actual))], dtype=np.float)\n",
    "    all = all[np.lexsort((all[:, 2], -1 * all[:,1]))]\n",
    "    total_losses = all[:, 0].sum()\n",
    "    gini_sum = all[:, 0].cumsum().sum() / total_losses\n",
    " \n",
    "    gini_sum -= (len(actual) + 1) / 2.0\n",
    "    return gini_sum / len(actual)\n",
    " \n",
    "def gini_normalized(actual, pred):\n",
    "    return gini(actual, pred) / gini(actual, actual)\n",
    " "
   ]
  },
  {
   "cell_type": "markdown",
   "metadata": {},
   "source": [
    "### Activation Functions"
   ]
  },
  {
   "cell_type": "code",
   "execution_count": 93,
   "metadata": {
    "ExecuteTime": {
     "end_time": "2017-11-03T15:24:51.736698Z",
     "start_time": "2017-11-03T08:24:51.723694-07:00"
    },
    "collapsed": true
   },
   "outputs": [],
   "source": [
    "# Use leaky relu for intermediate layers\n",
    "def leaky_relu(z, alpha=0.3):\n",
    "    '''\n",
    "    Leaky ReLU activation function\n",
    "    Inputs:\n",
    "    z = result of wa + b\n",
    "    alpha = slope\n",
    "    '''\n",
    "    a = tf.maximum(alpha * z, z)\n",
    "    return a\n",
    "\n",
    "# Use sigmoid for binary classification\n",
    "def sigmoid(z):\n",
    "    '''\n",
    "    Sigmoid activation\n",
    "    '''\n",
    "    a = tf.sigmoid(z)\n",
    "    return a"
   ]
  },
  {
   "cell_type": "markdown",
   "metadata": {},
   "source": [
    "### Hyperparameters"
   ]
  },
  {
   "cell_type": "code",
   "execution_count": 94,
   "metadata": {
    "ExecuteTime": {
     "end_time": "2017-11-03T15:24:51.745702Z",
     "start_time": "2017-11-03T08:24:51.739700-07:00"
    },
    "collapsed": true
   },
   "outputs": [],
   "source": [
    "# Hyperparameters\n",
    "learning_rate = 0.0005\n",
    "epochs = 60\n",
    "batch_size = 16\n",
    "keep_probability = 0.6\n",
    "n_hidden_layers = 3\n",
    "n_nodes = 512\n",
    "display_step = 100"
   ]
  },
  {
   "cell_type": "markdown",
   "metadata": {},
   "source": [
    "### Define layers"
   ]
  },
  {
   "cell_type": "code",
   "execution_count": 95,
   "metadata": {
    "ExecuteTime": {
     "end_time": "2017-11-03T15:24:51.755706Z",
     "start_time": "2017-11-03T08:24:51.747702-07:00"
    },
    "collapsed": false
   },
   "outputs": [],
   "source": [
    "def relu_layer(x, num_nodes, dropout_prob):\n",
    "    '''\n",
    "    ReLU activation layer with Batch Normalization and Dropout\n",
    "    '''\n",
    "    x_layer = tf.contrib.layers.fully_connected(inputs=x, \n",
    "                                                num_outputs=num_nodes, \n",
    "                                                activation_fn=None, \n",
    "                                                weights_initializer=tf.contrib.layers.xavier_initializer()\n",
    "                                               )\n",
    "    bn_layer = tf.layers.batch_normalization(inputs=x_layer, training=is_training)\n",
    "    relu_layer = leaky_relu(bn_layer)\n",
    "    relu_layer = tf.contrib.layers.dropout(inputs=relu_layer, keep_prob=dropout_prob)\n",
    "    return relu_layer"
   ]
  },
  {
   "cell_type": "code",
   "execution_count": 96,
   "metadata": {
    "ExecuteTime": {
     "end_time": "2017-11-03T15:24:51.770712Z",
     "start_time": "2017-11-03T08:24:51.757705-07:00"
    },
    "collapsed": true
   },
   "outputs": [],
   "source": [
    "def elu_layer(x, num_nodes, dropout_prob):\n",
    "    '''\n",
    "    Exponential Linear Unit (ELU) activation\n",
    "    '''\n",
    "    x_layer = tf.contrib.layers.fully_connected(inputs=x, \n",
    "                                                num_outputs=num_nodes, \n",
    "                                                activation_fn=None, \n",
    "                                                weights_initializer=tf.contrib.layers.xavier_initializer()\n",
    "                                               )\n",
    "    bn_layer = tf.layers.batch_normalization(inputs=x_layer, training=is_training)\n",
    "    elu_layer = tf.nn.elu(bn_layer)\n",
    "    elu_layer = tf.contrib.layers.dropout(inputs=elu_layer, keep_prob=dropout_prob)\n",
    "    return elu_layer"
   ]
  },
  {
   "cell_type": "markdown",
   "metadata": {},
   "source": [
    "### Define the neural network structure"
   ]
  },
  {
   "cell_type": "code",
   "execution_count": 97,
   "metadata": {
    "ExecuteTime": {
     "end_time": "2017-11-03T15:24:53.553044Z",
     "start_time": "2017-11-03T08:24:51.775713-07:00"
    },
    "collapsed": false
   },
   "outputs": [],
   "source": [
    "tf.reset_default_graph()\n",
    "\n",
    "inputs_x = tf.placeholder(dtype=tf.float32, shape=[None, train_x.shape[1]])\n",
    "labels_y = tf.placeholder(dtype=tf.float32, shape=[None, 1])\n",
    "keep_prob = tf.placeholder(dtype=tf.float32, shape=(None))\n",
    "is_training = tf.placeholder(dtype=tf.bool, shape=(None))\n",
    "'''\n",
    "# Leaky ReLU Activation\n",
    "# Layer 1\n",
    "x1 = relu_layer(x=inputs_x, num_nodes=n_nodes, dropout_prob=keep_prob)\n",
    "\n",
    "#Layer 2\n",
    "x2 = relu_layer(x=x1, num_nodes=n_nodes, dropout_prob=keep_prob)\n",
    "\n",
    "#Layer 3\n",
    "x3 = relu_layer(x=x2, num_nodes=n_nodes, dropout_prob=keep_prob)\n",
    "\n",
    "#Layer 4\n",
    "x4 = relu_layer(x=x3, num_nodes=n_nodes, dropout_prob=keep_prob)\n",
    "\n",
    "'''\n",
    "# ELU Activation\n",
    "# Layer 1\n",
    "x1 = elu_layer(x=inputs_x, num_nodes=n_nodes, dropout_prob=keep_prob)\n",
    "\n",
    "#Layer 2\n",
    "x2 = elu_layer(x=x1, num_nodes=n_nodes, dropout_prob=keep_prob)\n",
    "\n",
    "#Layer 3\n",
    "x3 = elu_layer(x=x2, num_nodes=n_nodes, dropout_prob=keep_prob)\n",
    "\n",
    "#Layer 4\n",
    "x4 = elu_layer(x=x3, num_nodes=n_nodes, dropout_prob=keep_prob)\n",
    "\n",
    "\n",
    "\n",
    "# Logits\n",
    "logits = tf.contrib.layers.fully_connected(inputs=x4, num_outputs=1, activation_fn=None)\n",
    "\n",
    "# Cross Entropy\n",
    "cross_entropy = tf.nn.sigmoid_cross_entropy_with_logits(labels=labels_y, logits=logits)\n",
    "\n",
    "# Cost\n",
    "cost = tf.reduce_mean(cross_entropy)\n",
    "\n",
    "# Optimizer\n",
    "with tf.control_dependencies(tf.get_collection(tf.GraphKeys.UPDATE_OPS)):\n",
    "    optimizer = tf.train.AdamOptimizer(learning_rate=learning_rate).minimize(cost)\n",
    "\n",
    "# Predictions\n",
    "prediction = tf.nn.sigmoid(logits)\n",
    "correct_prediction = tf.equal(labels_y, prediction)\n",
    "\n",
    "# Accuracy\n",
    "accuracy = tf.reduce_mean(tf.cast(correct_prediction, dtype=tf.float32))"
   ]
  },
  {
   "cell_type": "markdown",
   "metadata": {},
   "source": [
    "### Mini-batch Implementation"
   ]
  },
  {
   "cell_type": "code",
   "execution_count": 98,
   "metadata": {
    "ExecuteTime": {
     "end_time": "2017-11-03T15:24:53.562681Z",
     "start_time": "2017-11-03T08:24:53.553044-07:00"
    },
    "collapsed": true
   },
   "outputs": [],
   "source": [
    "# Mini batch generator\n",
    "def mini_batch(x, y, batch_size=batch_size):\n",
    "    num_batches = len(x) // batch_size\n",
    "    \n",
    "    for batch in range(num_batches):\n",
    "        if batch != (num_batches - 1):\n",
    "            X, Y = x[batch * batch_size: (batch + 1) * batch_size], y[batch * batch_size: (batch + 1) * batch_size]\n",
    "        else:\n",
    "            X, Y = x[batch * batch_size:], y[batch * batch_size:]\n",
    "        yield X, Y\n",
    "    "
   ]
  },
  {
   "cell_type": "code",
   "execution_count": 99,
   "metadata": {
    "ExecuteTime": {
     "end_time": "2017-11-03T15:24:53.577687Z",
     "start_time": "2017-11-03T08:24:53.563682-07:00"
    },
    "collapsed": true
   },
   "outputs": [],
   "source": [
    "def get_batches(x, y, n_batches=100):\n",
    "    \"\"\" Return a generator that yields batches from arrays x and y. \"\"\"\n",
    "    batch_size = len(x)//n_batches\n",
    "    \n",
    "    for ii in range(0, n_batches*batch_size, batch_size):\n",
    "        # If we're not on the last batch, grab data with size batch_size\n",
    "        if ii != (n_batches-1)*batch_size:\n",
    "            X, Y = x[ii: ii+batch_size], y[ii: ii+batch_size] \n",
    "        # On the last batch, grab the rest of the data\n",
    "        else:\n",
    "            X, Y = x[ii:], y[ii:]\n",
    "        \n",
    "        yield X, Y"
   ]
  },
  {
   "cell_type": "markdown",
   "metadata": {},
   "source": [
    "# TRAINING"
   ]
  },
  {
   "cell_type": "code",
   "execution_count": 100,
   "metadata": {
    "ExecuteTime": {
     "end_time": "2017-11-03T16:55:25.001275Z",
     "start_time": "2017-11-03T08:24:53.580690-07:00"
    },
    "collapsed": false
   },
   "outputs": [
    {
     "name": "stdout",
     "output_type": "stream",
     "text": [
      "Epoch: 1/60.... Iteration: 0.... Training loss: 0.98416\n",
      "Validation Acc: 0.0000\n",
      "Training Gini: 0.0582\n",
      "Valdation Gini: 0.0497\n",
      "Epoch: 2/60.... Iteration: 100.... Training loss: 0.17769\n",
      "Validation Acc: 0.0000\n",
      "Training Gini: 0.0358\n",
      "Valdation Gini: 0.0783\n",
      "Epoch: 3/60.... Iteration: 200.... Training loss: 0.16221\n",
      "Validation Acc: 0.0000\n",
      "Training Gini: 0.0910\n",
      "Valdation Gini: 0.0638\n",
      "Epoch: 4/60.... Iteration: 300.... Training loss: 0.16327\n",
      "Validation Acc: 0.0000\n",
      "Training Gini: 0.1236\n",
      "Valdation Gini: 0.1233\n",
      "Epoch: 5/60.... Iteration: 400.... Training loss: 0.15947\n",
      "Validation Acc: 0.0000\n",
      "Training Gini: 0.0865\n",
      "Valdation Gini: 0.0980\n",
      "Epoch: 6/60.... Iteration: 500.... Training loss: 0.16143\n",
      "Validation Acc: 0.0000\n",
      "Training Gini: 0.2185\n",
      "Valdation Gini: 0.1049\n",
      "Epoch: 7/60.... Iteration: 600.... Training loss: 0.15644\n",
      "Validation Acc: 0.0000\n",
      "Training Gini: 0.1120\n",
      "Valdation Gini: 0.0921\n",
      "Epoch: 8/60.... Iteration: 700.... Training loss: 0.15604\n",
      "Validation Acc: 0.0000\n",
      "Training Gini: 0.1049\n",
      "Valdation Gini: 0.1227\n",
      "Epoch: 9/60.... Iteration: 800.... Training loss: 0.15652\n",
      "Validation Acc: 0.0000\n",
      "Training Gini: 0.1251\n",
      "Valdation Gini: 0.1249\n",
      "Epoch: 10/60.... Iteration: 900.... Training loss: 0.15684\n",
      "Validation Acc: 0.0000\n",
      "Training Gini: 0.1110\n",
      "Valdation Gini: 0.1184\n",
      "Epoch: 11/60.... Iteration: 1000.... Training loss: 0.15283\n",
      "Validation Acc: 0.0000\n",
      "Training Gini: 0.0975\n",
      "Valdation Gini: 0.1502\n",
      "Epoch: 12/60.... Iteration: 1100.... Training loss: 0.15333\n",
      "Validation Acc: 0.0000\n",
      "Training Gini: 0.1821\n",
      "Valdation Gini: 0.1404\n",
      "Epoch: 13/60.... Iteration: 1200.... Training loss: 0.15139\n",
      "Validation Acc: 0.0000\n",
      "Training Gini: 0.1980\n",
      "Valdation Gini: 0.1528\n",
      "Epoch: 14/60.... Iteration: 1300.... Training loss: 0.15181\n",
      "Validation Acc: 0.0000\n",
      "Training Gini: 0.2123\n",
      "Valdation Gini: 0.1450\n",
      "Epoch: 15/60.... Iteration: 1400.... Training loss: 0.14938\n",
      "Validation Acc: 0.0000\n",
      "Training Gini: 0.1992\n",
      "Valdation Gini: 0.1703\n",
      "Epoch: 16/60.... Iteration: 1500.... Training loss: 0.14985\n",
      "Validation Acc: 0.0000\n",
      "Training Gini: 0.2011\n",
      "Valdation Gini: 0.1918\n",
      "Epoch: 17/60.... Iteration: 1600.... Training loss: 0.14843\n",
      "Validation Acc: 0.0000\n",
      "Training Gini: 0.2206\n",
      "Valdation Gini: 0.1561\n",
      "Epoch: 18/60.... Iteration: 1700.... Training loss: 0.15024\n",
      "Validation Acc: 0.0000\n",
      "Training Gini: 0.1851\n",
      "Valdation Gini: 0.1540\n",
      "Epoch: 19/60.... Iteration: 1800.... Training loss: 0.14794\n",
      "Validation Acc: 0.0000\n",
      "Training Gini: 0.2352\n",
      "Valdation Gini: 0.1811\n",
      "Epoch: 20/60.... Iteration: 1900.... Training loss: 0.14748\n",
      "Validation Acc: 0.0000\n",
      "Training Gini: 0.1944\n",
      "Valdation Gini: 0.1865\n",
      "Epoch: 21/60.... Iteration: 2000.... Training loss: 0.14794\n",
      "Validation Acc: 0.0000\n",
      "Training Gini: 0.1771\n",
      "Valdation Gini: 0.1801\n",
      "Epoch: 22/60.... Iteration: 2100.... Training loss: 0.14686\n",
      "Validation Acc: 0.0000\n",
      "Training Gini: 0.1858\n",
      "Valdation Gini: 0.1922\n",
      "Epoch: 23/60.... Iteration: 2200.... Training loss: 0.14783\n",
      "Validation Acc: 0.0000\n",
      "Training Gini: 0.1902\n",
      "Valdation Gini: 0.1967\n",
      "Epoch: 24/60.... Iteration: 2300.... Training loss: 0.14788\n",
      "Validation Acc: 0.0000\n",
      "Training Gini: 0.2249\n",
      "Valdation Gini: 0.2217\n",
      "Epoch: 25/60.... Iteration: 2400.... Training loss: 0.14834\n",
      "Validation Acc: 0.0000\n",
      "Training Gini: 0.2039\n",
      "Valdation Gini: 0.2085\n",
      "Epoch: 26/60.... Iteration: 2500.... Training loss: 0.14753\n",
      "Validation Acc: 0.0000\n",
      "Training Gini: 0.2681\n",
      "Valdation Gini: 0.2030\n",
      "Epoch: 27/60.... Iteration: 2600.... Training loss: 0.14725\n",
      "Validation Acc: 0.0000\n",
      "Training Gini: 0.2022\n",
      "Valdation Gini: 0.2082\n",
      "Epoch: 28/60.... Iteration: 2700.... Training loss: 0.14658\n",
      "Validation Acc: 0.0000\n",
      "Training Gini: 0.2120\n",
      "Valdation Gini: 0.2013\n",
      "Epoch: 29/60.... Iteration: 2800.... Training loss: 0.14731\n",
      "Validation Acc: 0.0000\n",
      "Training Gini: 0.2383\n",
      "Valdation Gini: 0.2122\n",
      "Epoch: 30/60.... Iteration: 2900.... Training loss: 0.14848\n",
      "Validation Acc: 0.0000\n",
      "Training Gini: 0.2015\n",
      "Valdation Gini: 0.2142\n",
      "Epoch: 31/60.... Iteration: 3000.... Training loss: 0.14654\n",
      "Validation Acc: 0.0000\n",
      "Training Gini: 0.2206\n",
      "Valdation Gini: 0.2170\n",
      "Epoch: 32/60.... Iteration: 3100.... Training loss: 0.14564\n",
      "Validation Acc: 0.0000\n",
      "Training Gini: 0.2071\n",
      "Valdation Gini: 0.2216\n",
      "Epoch: 33/60.... Iteration: 3200.... Training loss: 0.14726\n",
      "Validation Acc: 0.0000\n",
      "Training Gini: 0.2672\n",
      "Valdation Gini: 0.2202\n",
      "Epoch: 34/60.... Iteration: 3300.... Training loss: 0.14634\n",
      "Validation Acc: 0.0000\n",
      "Training Gini: 0.2544\n",
      "Valdation Gini: 0.2182\n",
      "Epoch: 35/60.... Iteration: 3400.... Training loss: 0.14649\n",
      "Validation Acc: 0.0000\n",
      "Training Gini: 0.2378\n",
      "Valdation Gini: 0.2163\n",
      "Epoch: 36/60.... Iteration: 3500.... Training loss: 0.14702\n",
      "Validation Acc: 0.0000\n",
      "Training Gini: 0.2657\n",
      "Valdation Gini: 0.2104\n",
      "Epoch: 37/60.... Iteration: 3600.... Training loss: 0.14726\n",
      "Validation Acc: 0.0000\n",
      "Training Gini: 0.2712\n",
      "Valdation Gini: 0.2149\n",
      "Epoch: 38/60.... Iteration: 3700.... Training loss: 0.14662\n",
      "Validation Acc: 0.0000\n",
      "Training Gini: 0.2688\n",
      "Valdation Gini: 0.2086\n",
      "Epoch: 39/60.... Iteration: 3800.... Training loss: 0.14668\n",
      "Validation Acc: 0.0000\n",
      "Training Gini: 0.2533\n",
      "Valdation Gini: 0.2126\n",
      "Epoch: 40/60.... Iteration: 3900.... Training loss: 0.14718\n",
      "Validation Acc: 0.0000\n",
      "Training Gini: 0.2575\n",
      "Valdation Gini: 0.2289\n",
      "Epoch: 41/60.... Iteration: 4000.... Training loss: 0.14619\n",
      "Validation Acc: 0.0000\n",
      "Training Gini: 0.2411\n",
      "Valdation Gini: 0.2173\n",
      "Epoch: 42/60.... Iteration: 4100.... Training loss: 0.14643\n",
      "Validation Acc: 0.0000\n",
      "Training Gini: 0.2488\n",
      "Valdation Gini: 0.2214\n",
      "Epoch: 43/60.... Iteration: 4200.... Training loss: 0.14613\n",
      "Validation Acc: 0.0000\n",
      "Training Gini: 0.2769\n",
      "Valdation Gini: 0.2435\n",
      "Epoch: 44/60.... Iteration: 4300.... Training loss: 0.14587\n",
      "Validation Acc: 0.0000\n",
      "Training Gini: 0.2804\n",
      "Valdation Gini: 0.2268\n",
      "Epoch: 45/60.... Iteration: 4400.... Training loss: 0.14593\n",
      "Validation Acc: 0.0000\n",
      "Training Gini: 0.2652\n",
      "Valdation Gini: 0.2145\n",
      "Epoch: 46/60.... Iteration: 4500.... Training loss: 0.14706\n",
      "Validation Acc: 0.0000\n",
      "Training Gini: 0.2645\n",
      "Valdation Gini: 0.2196\n",
      "Epoch: 47/60.... Iteration: 4600.... Training loss: 0.14624\n",
      "Validation Acc: 0.0000\n",
      "Training Gini: 0.2941\n",
      "Valdation Gini: 0.2364\n",
      "Epoch: 48/60.... Iteration: 4700.... Training loss: 0.14755\n",
      "Validation Acc: 0.0000\n",
      "Training Gini: 0.2704\n",
      "Valdation Gini: 0.2150\n",
      "Epoch: 49/60.... Iteration: 4800.... Training loss: 0.14759\n",
      "Validation Acc: 0.0000\n",
      "Training Gini: 0.2661\n",
      "Valdation Gini: 0.2331\n",
      "Epoch: 50/60.... Iteration: 4900.... Training loss: 0.14656\n",
      "Validation Acc: 0.0000\n",
      "Training Gini: 0.2874\n",
      "Valdation Gini: 0.2008\n",
      "Epoch: 51/60.... Iteration: 5000.... Training loss: 0.14593\n",
      "Validation Acc: 0.0000\n",
      "Training Gini: 0.2618\n",
      "Valdation Gini: 0.2166\n",
      "Epoch: 52/60.... Iteration: 5100.... Training loss: 0.14617\n",
      "Validation Acc: 0.0000\n",
      "Training Gini: 0.2479\n",
      "Valdation Gini: 0.2216\n",
      "Epoch: 53/60.... Iteration: 5200.... Training loss: 0.14518\n",
      "Validation Acc: 0.0000\n",
      "Training Gini: 0.2573\n",
      "Valdation Gini: 0.2067\n",
      "Epoch: 54/60.... Iteration: 5300.... Training loss: 0.14599\n",
      "Validation Acc: 0.0000\n",
      "Training Gini: 0.2387\n",
      "Valdation Gini: 0.2010\n",
      "Epoch: 55/60.... Iteration: 5400.... Training loss: 0.14611\n",
      "Validation Acc: 0.0000\n",
      "Training Gini: 0.3050\n",
      "Valdation Gini: 0.2055\n",
      "Epoch: 56/60.... Iteration: 5500.... Training loss: 0.14563\n",
      "Validation Acc: 0.0000\n",
      "Training Gini: 0.2539\n",
      "Valdation Gini: 0.2184\n",
      "Epoch: 57/60.... Iteration: 5600.... Training loss: 0.14579\n",
      "Validation Acc: 0.0000\n",
      "Training Gini: 0.2772\n",
      "Valdation Gini: 0.2123\n",
      "Epoch: 58/60.... Iteration: 5700.... Training loss: 0.14500\n",
      "Validation Acc: 0.0000\n",
      "Training Gini: 0.2473\n",
      "Valdation Gini: 0.2210\n",
      "Epoch: 59/60.... Iteration: 5800.... Training loss: 0.14522\n",
      "Validation Acc: 0.0000\n",
      "Training Gini: 0.2914\n",
      "Valdation Gini: 0.2173\n",
      "Epoch: 60/60.... Iteration: 5900.... Training loss: 0.14438\n",
      "Validation Acc: 0.0000\n",
      "Training Gini: 0.2685\n",
      "Valdation Gini: 0.2042\n",
      "Training Completed\n"
     ]
    }
   ],
   "source": [
    "# Reset iteration counter\n",
    "iterations = 0\n",
    "gini_val = []\n",
    "saver = tf.train.Saver()\n",
    "\n",
    "with tf.Session() as sess:\n",
    "    sess.run(tf.global_variables_initializer())\n",
    "    for epoch in range(epochs):\n",
    "        #for x, y in mini_batch(train_x, train_y):\n",
    "        for x, y in get_batches(train_x, train_y):\n",
    "            feed_trn = {inputs_x: x, \n",
    "                    labels_y: y,\n",
    "                    keep_prob: keep_probability,\n",
    "                    is_training: True\n",
    "                   }\n",
    "            loss, _ = sess.run([cost, optimizer], feed_dict=feed_trn)\n",
    "            \n",
    "            \n",
    "            if iterations % display_step == 0:\n",
    "                print('Epoch: {}/{}....'.format(epoch+1, epochs), \n",
    "                  'Iteration: {}....'.format(iterations),\n",
    "                  'Training loss: {:.5f}'.format(loss))\n",
    "                # Normalized Gini - Training\n",
    "                actual_array = labels_y.eval(feed_dict=feed_trn, session=sess)\n",
    "                pred_array = prediction.eval(feed_dict=feed_trn, session=sess)\n",
    "                normalized_gini_train = gini_normalized(actual=actual_array, pred=pred_array)\n",
    "                \n",
    "                feed_val = {inputs_x: val_x,\n",
    "                        labels_y: val_y,\n",
    "                        keep_prob: keep_probability,\n",
    "                        is_training: True\n",
    "                       }\n",
    "                val_accuracy = sess.run(accuracy, feed_dict=feed_val)\n",
    "                print(\"Validation Acc: {:.4f}\".format(val_accuracy))\n",
    "                \n",
    "                # Normalized Gini - Validation\n",
    "                actual_array = labels_y.eval(feed_dict=feed_val, session=sess)\n",
    "                pred_array = prediction.eval(feed_dict=feed_val, session=sess)\n",
    "                normalized_gini_val = gini_normalized(actual=actual_array, pred=pred_array)\n",
    "                gini_val.append((normalized_gini_train, normalized_gini_val))\n",
    "                print(\"Training Gini: {:.4f}\".format(normalized_gini_train))\n",
    "                print(\"Valdation Gini: {:.4f}\".format(normalized_gini_val))\n",
    "            iterations += 1\n",
    "    print('Training Completed')\n",
    "    saver.save(sess, \"checkpoints/porto_seguro.ckpt\")"
   ]
  },
  {
   "cell_type": "markdown",
   "metadata": {
    "collapsed": true
   },
   "source": [
    "### Model Predictions on Test Set"
   ]
  },
  {
   "cell_type": "code",
   "execution_count": 101,
   "metadata": {
    "ExecuteTime": {
     "end_time": "2017-11-03T16:56:22.750792Z",
     "start_time": "2017-11-03T09:55:25.001275-07:00"
    },
    "collapsed": false
   },
   "outputs": [
    {
     "name": "stdout",
     "output_type": "stream",
     "text": [
      "INFO:tensorflow:Restoring parameters from checkpoints\\porto_seguro.ckpt\n"
     ]
    }
   ],
   "source": [
    "# Use saved model to generate predictions based on test data set\n",
    "with tf.Session() as sess:\n",
    "    saver.restore(sess, tf.train.latest_checkpoint('checkpoints'))\n",
    "    \n",
    "    feed_test = {inputs_x: test, labels_y: train_y, keep_prob: 1.0, is_training: False}\n",
    "    test_y = prediction.eval(feed_dict=feed_test, session=sess)"
   ]
  },
  {
   "cell_type": "markdown",
   "metadata": {},
   "source": [
    "### Write model predictions to submission file"
   ]
  },
  {
   "cell_type": "code",
   "execution_count": 102,
   "metadata": {
    "ExecuteTime": {
     "end_time": "2017-11-03T16:56:27.237688Z",
     "start_time": "2017-11-03T09:56:22.750792-07:00"
    },
    "collapsed": false
   },
   "outputs": [
    {
     "name": "stdout",
     "output_type": "stream",
     "text": [
      "      target\n",
      "id          \n",
      "0   0.030236\n",
      "1   0.026526\n",
      "2   0.022500\n",
      "3   0.012615\n",
      "4   0.030326\n",
      "5   0.040255\n",
      "6   0.017255\n",
      "8   0.031362\n",
      "10  0.066570\n",
      "11  0.042701\n",
      "12  0.030972\n",
      "14  0.023362\n",
      "15  0.047406\n",
      "18  0.057525\n",
      "21  0.042425\n",
      "(892816, 1)\n"
     ]
    },
    {
     "data": {
      "text/plain": [
       "'\\nsample_submission_data_df = pd.read_csv(\\'../results/reference.csv\\')\\n\\nprint(\"Sample submission file: {} x {}\".format(*sample_submission_data_df.shape))\\n\\ngini_outputs = gini_normalized(actual, pred)\\nprint(\\'Shape of normalized gini outputs: {}\\'.format(gini_outputs))\\n\\n# Submission file has two columns: id, target\\n'"
      ]
     },
     "execution_count": 102,
     "metadata": {},
     "output_type": "execute_result"
    }
   ],
   "source": [
    "# Read sample submission csv file\n",
    "submission = pd.DataFrame(data=test_y, columns=['target'])\n",
    "submission['id'] = test_ids\n",
    "submission.set_index(keys='id', inplace=True, verify_integrity=True)\n",
    "print(submission.head(15))\n",
    "print(submission.shape)\n",
    "\n",
    "# SET filename here!!!!\n",
    "filename = 'Reference_4.csv'\n",
    "submission.to_csv(filename, index=True, index_label='id')\n",
    "\n",
    "\n",
    "'''\n",
    "sample_submission_data_df = pd.read_csv('../results/reference.csv')\n",
    "\n",
    "print(\"Sample submission file: {} x {}\".format(*sample_submission_data_df.shape))\n",
    "\n",
    "gini_outputs = gini_normalized(actual, pred)\n",
    "print('Shape of normalized gini outputs: {}'.format(gini_outputs))\n",
    "\n",
    "# Submission file has two columns: id, target\n",
    "'''"
   ]
  },
  {
   "cell_type": "code",
   "execution_count": null,
   "metadata": {
    "ExecuteTime": {
     "end_time": "2017-11-01T18:56:53.267212Z",
     "start_time": "2017-11-01T18:49:13.950Z"
    },
    "collapsed": true
   },
   "outputs": [],
   "source": [
    "def test_gini():\n",
    "    def fequ(a,b):\n",
    "        return abs(a - b) < 1e-6\n",
    "    def T(a, p, g, n):\n",
    "        assert(fequ(gini(a,p), g) )\n",
    "        assert(fequ(gini_normalized(a,p), n) )\n",
    "    T([1, 2, 3], [10, 20, 30], 0.111111, 1)\n",
    "    T([1, 2, 3], [30, 20, 10], -0.111111, -1)\n",
    "    T([1, 2, 3], [0, 0, 0], -0.111111, -1)\n",
    "    T([3, 2, 1], [0, 0, 0], 0.111111, 1)\n",
    "    T([1, 2, 4, 3], [0, 0, 0, 0], -0.1, -0.8)\n",
    "    T([2, 1, 4, 3], [0, 0, 2, 1], 0.125, 1)\n",
    "    T([0, 20, 40, 0, 10], [40, 40, 10, 5, 5], 0, 0)\n",
    "    T([40, 0, 20, 0, 10], [1000000, 40, 40, 5, 5], 0.171428,\n",
    "       0.6)\n",
    "    T([40, 20, 10, 0, 0], [40, 20, 10, 0, 0], 0.285714, 1)\n",
    "    T([1, 1, 0, 1], [0.86, 0.26, 0.52, 0.32], -0.041666,\n",
    "       -0.333333)"
   ]
  }
 ],
 "metadata": {
  "kernelspec": {
   "display_name": "Python 3",
   "language": "python",
   "name": "python3"
  },
  "language_info": {
   "codemirror_mode": {
    "name": "ipython",
    "version": 3
   },
   "file_extension": ".py",
   "mimetype": "text/x-python",
   "name": "python",
   "nbconvert_exporter": "python",
   "pygments_lexer": "ipython3",
   "version": "3.5.3"
  }
 },
 "nbformat": 4,
 "nbformat_minor": 2
}
