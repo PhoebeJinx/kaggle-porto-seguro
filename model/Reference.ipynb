{
 "cells": [
  {
   "cell_type": "code",
   "execution_count": 1,
   "metadata": {
    "ExecuteTime": {
     "end_time": "2017-10-11T01:39:33.622927Z",
     "start_time": "2017-10-10T18:39:28.683644-07:00"
    },
    "collapsed": false,
    "scrolled": true
   },
   "outputs": [],
   "source": [
    "import tensorflow as tf\n",
    "import pandas as pd\n",
    "import numpy as np\n",
    "import matplotlib.pyplot as plt\n",
    "import seaborn as sns\n",
    "import sklearn\n",
    "%matplotlib inline"
   ]
  },
  {
   "cell_type": "markdown",
   "metadata": {},
   "source": [
    "# Pre-processing"
   ]
  },
  {
   "cell_type": "code",
   "execution_count": null,
   "metadata": {
    "ExecuteTime": {
     "end_time": "2017-10-10T04:29:29.035490Z",
     "start_time": "2017-10-09T21:29:29.018489-07:00"
    },
    "collapsed": false,
    "scrolled": true
   },
   "outputs": [],
   "source": [
    "train_data_df = pd.read_csv('../data/train.csv')\n",
    "test_data_df = pd.read_csv('../data/test.csv')"
   ]
  },
  {
   "cell_type": "markdown",
   "metadata": {},
   "source": [
    "### Print DataFrame head"
   ]
  },
  {
   "cell_type": "code",
   "execution_count": null,
   "metadata": {
    "collapsed": true
   },
   "outputs": [],
   "source": [
    "train_data_df.head()"
   ]
  },
  {
   "cell_type": "code",
   "execution_count": null,
   "metadata": {
    "collapsed": true
   },
   "outputs": [],
   "source": [
    "test_data_df.head()"
   ]
  },
  {
   "cell_type": "markdown",
   "metadata": {},
   "source": [
    "## Original data shape"
   ]
  },
  {
   "cell_type": "code",
   "execution_count": null,
   "metadata": {
    "ExecuteTime": {
     "end_time": "2017-10-07T05:55:05.261391Z",
     "start_time": "2017-10-06T22:55:05.255391-07:00"
    },
    "collapsed": true,
    "scrolled": true
   },
   "outputs": [],
   "source": [
    "train_data_df.shape"
   ]
  },
  {
   "cell_type": "code",
   "execution_count": null,
   "metadata": {
    "ExecuteTime": {
     "end_time": "2017-10-07T05:55:05.271392Z",
     "start_time": "2017-10-06T22:55:05.265392-07:00"
    },
    "collapsed": true,
    "scrolled": true
   },
   "outputs": [],
   "source": [
    "test_data_df.shape"
   ]
  },
  {
   "cell_type": "markdown",
   "metadata": {},
   "source": [
    "## Column Names"
   ]
  },
  {
   "cell_type": "code",
   "execution_count": null,
   "metadata": {
    "ExecuteTime": {
     "end_time": "2017-10-07T05:55:05.288393Z",
     "start_time": "2017-10-06T22:55:05.274392-07:00"
    },
    "collapsed": true,
    "scrolled": true
   },
   "outputs": [],
   "source": [
    "train_data_df.columns"
   ]
  },
  {
   "cell_type": "markdown",
   "metadata": {},
   "source": [
    "## Drop duplicates"
   ]
  },
  {
   "cell_type": "code",
   "execution_count": null,
   "metadata": {
    "ExecuteTime": {
     "end_time": "2017-10-07T05:55:07.908543Z",
     "start_time": "2017-10-06T22:55:05.292393-07:00"
    },
    "collapsed": false,
    "scrolled": true
   },
   "outputs": [],
   "source": [
    "train_data_df.drop_duplicates(inplace=True)\n",
    "test_data_df.drop_duplicates(inplace=True)"
   ]
  },
  {
   "cell_type": "markdown",
   "metadata": {},
   "source": [
    "## Replace missing values: `-1` with `np.nan`"
   ]
  },
  {
   "cell_type": "code",
   "execution_count": null,
   "metadata": {
    "ExecuteTime": {
     "end_time": "2017-10-07T05:55:08.840596Z",
     "start_time": "2017-10-06T22:55:07.909543-07:00"
    },
    "collapsed": false,
    "scrolled": false
   },
   "outputs": [],
   "source": [
    "train_data_df.replace(-1, np.nan, inplace=True)\n",
    "test_data_df.replace(-1, np.nan, inplace=True)"
   ]
  },
  {
   "cell_type": "markdown",
   "metadata": {},
   "source": [
    "## Initial count of missing values by column (or feature)"
   ]
  },
  {
   "cell_type": "code",
   "execution_count": null,
   "metadata": {
    "ExecuteTime": {
     "end_time": "2017-10-07T05:55:10.069666Z",
     "start_time": "2017-10-06T22:55:08.841596-07:00"
    },
    "collapsed": true,
    "scrolled": true
   },
   "outputs": [],
   "source": [
    "train_data_df.isnull().sum()"
   ]
  },
  {
   "cell_type": "code",
   "execution_count": null,
   "metadata": {
    "collapsed": true
   },
   "outputs": [],
   "source": [
    "test_data_df.isnull().sum()"
   ]
  },
  {
   "cell_type": "markdown",
   "metadata": {},
   "source": [
    "## Drop features in both training and testing sets"
   ]
  },
  {
   "cell_type": "code",
   "execution_count": null,
   "metadata": {
    "ExecuteTime": {
     "end_time": "2017-10-07T05:57:47.536673Z",
     "start_time": "2017-10-06T22:57:47.243656-07:00"
    },
    "collapsed": true,
    "scrolled": true
   },
   "outputs": [],
   "source": [
    "# Drop columns / features in `drop_labels` list\n",
    "drop_labels = ['ps_reg_03', 'ps_car_03_cat', 'ps_car_05_cat']\n",
    "train_data_df.drop(labels=drop_labels, axis=1, inplace=True)\n",
    "test_data_df.drop(labels=drop_labels, axis=1, inplace=True)"
   ]
  },
  {
   "cell_type": "markdown",
   "metadata": {},
   "source": [
    "## Visualize distribution of columns with missing values"
   ]
  },
  {
   "cell_type": "code",
   "execution_count": null,
   "metadata": {
    "ExecuteTime": {
     "end_time": "2017-10-10T04:00:51.185235Z",
     "start_time": "2017-10-09T21:00:51.046227-07:00"
    },
    "collapsed": false
   },
   "outputs": [],
   "source": [
    "train_data_df.ps_ind_05_cat.plot.hist(bins=20)\n",
    "plt.show()"
   ]
  },
  {
   "cell_type": "code",
   "execution_count": null,
   "metadata": {
    "ExecuteTime": {
     "end_time": "2017-10-07T06:10:22.123833Z",
     "start_time": "2017-10-06T23:10:22.118833-07:00"
    },
    "collapsed": false,
    "scrolled": false
   },
   "outputs": [],
   "source": [
    "# IMPORTANT: Check missing labels in both training and test sets\n",
    "missing_labels = ['ps_ind_02_cat', \n",
    "                  'ps_ind_04_cat', \n",
    "                  'ps_ind_05_cat',\n",
    "                  'ps_car_01_cat',\n",
    "                  'ps_car_02_cat',\n",
    "                  'ps_car_07_cat',\n",
    "                  'ps_car_09_cat',\n",
    "                  'ps_car_11',\n",
    "                  'ps_car_12', # only in training set\n",
    "                  'ps_car_14'\n",
    "                 ]"
   ]
  },
  {
   "cell_type": "markdown",
   "metadata": {},
   "source": [
    "### Fill in missing values "
   ]
  },
  {
   "cell_type": "code",
   "execution_count": null,
   "metadata": {
    "collapsed": true
   },
   "outputs": [],
   "source": [
    "# Fill in missing values based on individual column(feature) distributions\n",
    "\n"
   ]
  },
  {
   "cell_type": "markdown",
   "metadata": {},
   "source": [
    "### Final count of missing values by column (or feature)"
   ]
  },
  {
   "cell_type": "code",
   "execution_count": null,
   "metadata": {
    "ExecuteTime": {
     "end_time": "2017-10-07T06:10:24.967996Z",
     "start_time": "2017-10-06T23:10:24.411964-07:00"
    },
    "collapsed": false,
    "scrolled": true
   },
   "outputs": [],
   "source": [
    "# Confirm there are zero missing values in training set\n",
    "train_data_df.isnull().sum()"
   ]
  },
  {
   "cell_type": "code",
   "execution_count": null,
   "metadata": {
    "ExecuteTime": {
     "end_time": "2017-10-07T06:10:29.885277Z",
     "start_time": "2017-10-06T23:10:29.119233-07:00"
    },
    "collapsed": false,
    "scrolled": true
   },
   "outputs": [],
   "source": [
    "# Confirm there are zero missing values in testing set\n",
    "test_data_df.isnull().sum()"
   ]
  },
  {
   "cell_type": "markdown",
   "metadata": {},
   "source": [
    "### Drop ID column for training and test set"
   ]
  },
  {
   "cell_type": "code",
   "execution_count": null,
   "metadata": {
    "collapsed": true
   },
   "outputs": [],
   "source": []
  },
  {
   "cell_type": "code",
   "execution_count": null,
   "metadata": {
    "ExecuteTime": {
     "end_time": "2017-10-06T06:16:16.985592Z",
     "start_time": "2017-10-05T23:16:16.953590-07:00"
    },
    "collapsed": true,
    "scrolled": true
   },
   "outputs": [],
   "source": [
    "count_target_ones = train_data_df.target.sum()\n",
    "count_target_ones"
   ]
  },
  {
   "cell_type": "code",
   "execution_count": null,
   "metadata": {
    "ExecuteTime": {
     "end_time": "2017-10-06T06:16:24.765037Z",
     "start_time": "2017-10-05T23:16:24.753037-07:00"
    },
    "collapsed": true,
    "scrolled": true
   },
   "outputs": [],
   "source": [
    "100 * count_target_ones / train_shape[0]"
   ]
  },
  {
   "cell_type": "code",
   "execution_count": null,
   "metadata": {
    "ExecuteTime": {
     "end_time": "2017-10-01T00:49:59.381511Z",
     "start_time": "2017-09-30T17:49:59.361510-07:00"
    },
    "collapsed": true,
    "scrolled": true
   },
   "outputs": [],
   "source": [
    "categorical_vars = [var for var in train_data_df.columns if var.endswith('cat')]\n",
    "binary_vars = [var for var in train_data_df.columns if var.endswith('bin')]\n",
    "individual_vars =[var for var in train_data_df.columns if 'ind' in var]\n",
    "car_vars =[var for var in train_data_df.columns if 'car' in var]\n",
    "regional_vars = [var for var in train_data_df.columns if 'reg' in var]\n",
    "calc_vars = [var for var in train_data_df.columns if 'calc' in var]\n",
    "\n",
    "print('Total no. of features in training set: {}'.format(len(train_data_df.columns) - 2))\n",
    "print('No. of categorical variables in training set: {}'.format(len(categorical_vars)))\n",
    "print('No. of binary variables in training set: {}'.format(len(binary_vars)))\n",
    "print('No. of individual variables in training set: {}'.format(len(individual_vars)))\n",
    "print('No. of car variables in training set: {}'.format(len(car_vars)))\n",
    "print('No. of regional variables in training set: {}'.format(len(regional_vars)))\n",
    "print('No. of calculated variables in training set: {}'.format(len(calc_vars)))"
   ]
  },
  {
   "cell_type": "code",
   "execution_count": null,
   "metadata": {
    "ExecuteTime": {
     "end_time": "2017-09-30T19:21:47.373193Z",
     "start_time": "2017-09-30T12:21:46.788159-07:00"
    },
    "collapsed": true,
    "scrolled": true
   },
   "outputs": [],
   "source": [
    "train_data_df.info()"
   ]
  },
  {
   "cell_type": "code",
   "execution_count": null,
   "metadata": {
    "ExecuteTime": {
     "end_time": "2017-09-30T19:21:50.856392Z",
     "start_time": "2017-09-30T12:21:48.212241-07:00"
    },
    "collapsed": true,
    "scrolled": true
   },
   "outputs": [],
   "source": [
    "train_data_df.describe()"
   ]
  },
  {
   "cell_type": "markdown",
   "metadata": {},
   "source": [
    "## PCA"
   ]
  },
  {
   "cell_type": "code",
   "execution_count": null,
   "metadata": {
    "collapsed": true
   },
   "outputs": [],
   "source": []
  },
  {
   "cell_type": "markdown",
   "metadata": {},
   "source": [
    "### One hot encoding for categorical variables"
   ]
  },
  {
   "cell_type": "code",
   "execution_count": null,
   "metadata": {
    "collapsed": true
   },
   "outputs": [],
   "source": []
  },
  {
   "cell_type": "markdown",
   "metadata": {},
   "source": [
    "### Feature scaling"
   ]
  },
  {
   "cell_type": "code",
   "execution_count": null,
   "metadata": {
    "collapsed": true
   },
   "outputs": [],
   "source": []
  },
  {
   "cell_type": "markdown",
   "metadata": {},
   "source": [
    "## MODEL"
   ]
  },
  {
   "cell_type": "code",
   "execution_count": null,
   "metadata": {
    "ExecuteTime": {
     "end_time": "2017-10-07T17:53:42.977305Z",
     "start_time": "2017-10-07T10:53:42.923302-07:00"
    },
    "collapsed": true
   },
   "outputs": [],
   "source": [
    "# Binary classification - y_hat ={0;1}"
   ]
  },
  {
   "cell_type": "markdown",
   "metadata": {
    "collapsed": true
   },
   "source": [
    "### Set training targets and training data"
   ]
  },
  {
   "cell_type": "code",
   "execution_count": null,
   "metadata": {
    "ExecuteTime": {
     "end_time": "2017-10-10T04:14:32.199194Z",
     "start_time": "2017-10-09T21:14:32.194194-07:00"
    },
    "collapsed": false
   },
   "outputs": [],
   "source": [
    "# Transpose data to (no. of features x no. of observations)\n",
    "train_y = None # Use 'target' column\n",
    "train_x = None # Omit 'target' column\n",
    "test_x = None # Must match columns used "
   ]
  },
  {
   "cell_type": "markdown",
   "metadata": {},
   "source": [
    "### Data Shapes"
   ]
  },
  {
   "cell_type": "code",
   "execution_count": null,
   "metadata": {
    "ExecuteTime": {
     "end_time": "2017-10-10T04:28:02.860561Z",
     "start_time": "2017-10-09T21:28:02.845560-07:00"
    },
    "collapsed": false,
    "scrolled": true
   },
   "outputs": [],
   "source": [
    "# Data previously transposed\n",
    "train_x_shape = train_x.shape\n",
    "m_train = train_shape[1]\n",
    "test_x_shape = test_x.shape\n",
    "m_test = test_shape[1]\n",
    "train_y_shape = train_y.shape\n",
    "\n",
    "assert(train_shape[0] == test_shape[0])\n",
    "\n",
    "print('Training data shape: {} features x {} observations'.format(*train_shape))\n",
    "print('Test data shape: {} features x {} observations'.format(*test_shape))\n",
    "print('No of training examples: {}'.format(m_train))\n",
    "print('No of test examples: {}'.format(m_test))"
   ]
  },
  {
   "cell_type": "markdown",
   "metadata": {},
   "source": [
    "### Randomize training data"
   ]
  },
  {
   "cell_type": "code",
   "execution_count": null,
   "metadata": {
    "collapsed": true
   },
   "outputs": [],
   "source": []
  },
  {
   "cell_type": "markdown",
   "metadata": {},
   "source": [
    "### Define the neural network structure"
   ]
  },
  {
   "cell_type": "code",
   "execution_count": null,
   "metadata": {
    "collapsed": true
   },
   "outputs": [],
   "source": [
    "plt.legend()"
   ]
  },
  {
   "cell_type": "markdown",
   "metadata": {},
   "source": [
    "### Initialize the model's parameters"
   ]
  },
  {
   "cell_type": "code",
   "execution_count": null,
   "metadata": {
    "collapsed": true
   },
   "outputs": [],
   "source": []
  },
  {
   "cell_type": "code",
   "execution_count": null,
   "metadata": {
    "collapsed": true
   },
   "outputs": [],
   "source": []
  },
  {
   "cell_type": "markdown",
   "metadata": {},
   "source": [
    "### Fix Imbalanced dataset"
   ]
  },
  {
   "cell_type": "code",
   "execution_count": null,
   "metadata": {
    "collapsed": true
   },
   "outputs": [],
   "source": []
  },
  {
   "cell_type": "markdown",
   "metadata": {},
   "source": [
    "# Tensorflow Implementation"
   ]
  },
  {
   "cell_type": "markdown",
   "metadata": {},
   "source": [
    "### Hyperparameters"
   ]
  },
  {
   "cell_type": "code",
   "execution_count": null,
   "metadata": {
    "collapsed": true
   },
   "outputs": [],
   "source": [
    "learning_rate = None\n",
    "epochs = None\n",
    "batch_size = None\n",
    "keep_probability = None\n",
    "n_hidden_layers = None\n",
    "n_nodes = None\n",
    "display_step = None"
   ]
  },
  {
   "cell_type": "markdown",
   "metadata": {},
   "source": [
    "### Reset graph"
   ]
  },
  {
   "cell_type": "code",
   "execution_count": 2,
   "metadata": {
    "ExecuteTime": {
     "end_time": "2017-10-11T01:40:18.830512Z",
     "start_time": "2017-10-10T18:40:18.825512-07:00"
    },
    "collapsed": true
   },
   "outputs": [],
   "source": [
    "tf.reset_default_graph()"
   ]
  },
  {
   "cell_type": "markdown",
   "metadata": {},
   "source": [
    "### Define placeholders"
   ]
  },
  {
   "cell_type": "code",
   "execution_count": 3,
   "metadata": {
    "ExecuteTime": {
     "end_time": "2017-10-11T01:47:37.590608Z",
     "start_time": "2017-10-10T18:47:37.582608-07:00"
    },
    "collapsed": true
   },
   "outputs": [],
   "source": [
    "def inputs(x_input, y_labels, learn_rate):\n",
    "    x_input = tf.placeholder(dtype=tf.float32, \n",
    "                             shape=(None, train_x_shape[0], m_train), \n",
    "                             name='x_input'\n",
    "                            )\n",
    "    y_labels = tf.placeholder(dtype=tf.float32, \n",
    "                              shape=(None, 1, m_train), \n",
    "                              name='y_labels'\n",
    "                             )\n",
    "    learn_rate = tf.placeholder(dtype=tf.float32, \n",
    "                                shape=(1), \n",
    "                                name='learn_rate')\n",
    "                              \n",
    "    "
   ]
  },
  {
   "cell_type": "markdown",
   "metadata": {},
   "source": [
    "### Activation Functions"
   ]
  },
  {
   "cell_type": "code",
   "execution_count": null,
   "metadata": {
    "ExecuteTime": {
     "end_time": "2017-10-08T00:00:08.158740Z",
     "start_time": "2017-10-07T17:00:08.149739-07:00"
    },
    "collapsed": true
   },
   "outputs": [],
   "source": [
    "# Use leaky relu for intermediate layers\n",
    "def leaky_relu(z, alpha):\n",
    "    '''\n",
    "    Leaky ReLU activation function\n",
    "    Inputs:\n",
    "    z = result of wa + b\n",
    "    alpha = slope\n",
    "    '''\n",
    "    a = max(alpha * z, z)\n",
    "    return a\n",
    "\n",
    "# Use sigmoid for binary classification\n",
    "def sigmoid(z):\n",
    "    '''\n",
    "    Sigmoid activation\n",
    "    '''\n",
    "    a = tf.sigmoid(z)\n",
    "    return a"
   ]
  },
  {
   "cell_type": "markdown",
   "metadata": {},
   "source": [
    "### Model Architecture"
   ]
  },
  {
   "cell_type": "code",
   "execution_count": null,
   "metadata": {
    "collapsed": true
   },
   "outputs": [],
   "source": []
  },
  {
   "cell_type": "code",
   "execution_count": null,
   "metadata": {
    "collapsed": true
   },
   "outputs": [],
   "source": []
  },
  {
   "cell_type": "markdown",
   "metadata": {
    "collapsed": true
   },
   "source": [
    "### Model Predictions on Test Set"
   ]
  },
  {
   "cell_type": "code",
   "execution_count": null,
   "metadata": {
    "collapsed": true
   },
   "outputs": [],
   "source": [
    "# Use saved model to generate predictions based on test data set\n"
   ]
  },
  {
   "cell_type": "markdown",
   "metadata": {
    "collapsed": true
   },
   "source": [
    "### Normalized Gini Coefficient Implementation"
   ]
  },
  {
   "cell_type": "code",
   "execution_count": null,
   "metadata": {
    "ExecuteTime": {
     "end_time": "2017-10-10T03:47:03.261880Z",
     "start_time": "2017-10-09T20:47:03.250880-07:00"
    },
    "collapsed": false
   },
   "outputs": [],
   "source": [
    "# Implement normalized Gini coefficient functions\n",
    "\n",
    "# https://www.kaggle.com/c/ClaimPredictionChallenge/discussion/703\n",
    "def gini(actual, pred, cmpcol = 0, sortcol = 1):\n",
    "    '''\n",
    "    actual: ground truth target values\n",
    "    pred: our model predictions based on test set\n",
    "    '''\n",
    "    assert(len(actual) == len(pred))\n",
    "    all = np.asarray(np.c_[actual, pred, np.arange(len(actual))], dtype=np.float)\n",
    "    all = all[np.lexsort((all[:, 2], -1 * all[:,1]))]\n",
    "    total_losses = all[:, 0].sum()\n",
    "    gini_sum = all[:, 0].cumsum().sum() / total_losses\n",
    " \n",
    "    gini_sum -= (len(actual) + 1) / 2.0\n",
    "    return gini_sum / len(actual)\n",
    " \n",
    "def gini_normalized(actual, pred):\n",
    "    return gini(actual, pred) / gini(actual, actual)\n",
    " "
   ]
  },
  {
   "cell_type": "markdown",
   "metadata": {},
   "source": [
    "### Calculate Normalized Gini Coefficient"
   ]
  },
  {
   "cell_type": "code",
   "execution_count": null,
   "metadata": {
    "collapsed": true
   },
   "outputs": [],
   "source": []
  },
  {
   "cell_type": "markdown",
   "metadata": {},
   "source": [
    "### Write model predictions to submission file"
   ]
  },
  {
   "cell_type": "code",
   "execution_count": null,
   "metadata": {
    "collapsed": true
   },
   "outputs": [],
   "source": [
    "# Read sample submission csv file\n",
    "sample_submission_data_df = pd.read_csv('../results/sample_submission.csv')\n",
    "\n",
    "print(\"Sample submission file: {} x {}\".format(*sample_submission_data_df.shape))\n",
    "\n",
    "gini_outputs = gini_normalized(actual, pred)\n",
    "print('Shape of normalized gini outputs: {}'. format(gini_outputs))\n",
    "\n",
    "# Submission file has two columns: id, target"
   ]
  },
  {
   "cell_type": "code",
   "execution_count": null,
   "metadata": {
    "ExecuteTime": {
     "end_time": "2017-10-10T03:54:02.509860Z",
     "start_time": "2017-10-09T20:54:02.482858-07:00"
    },
    "collapsed": true
   },
   "outputs": [],
   "source": [
    "def test_gini():\n",
    "    def fequ(a,b):\n",
    "        return abs(a - b) < 1e-6\n",
    "    def T(a, p, g, n):\n",
    "        assert(fequ(gini(a,p), g) )\n",
    "        assert(fequ(gini_normalized(a,p), n) )\n",
    "    T([1, 2, 3], [10, 20, 30], 0.111111, 1)\n",
    "    T([1, 2, 3], [30, 20, 10], -0.111111, -1)\n",
    "    T([1, 2, 3], [0, 0, 0], -0.111111, -1)\n",
    "    T([3, 2, 1], [0, 0, 0], 0.111111, 1)\n",
    "    T([1, 2, 4, 3], [0, 0, 0, 0], -0.1, -0.8)\n",
    "    T([2, 1, 4, 3], [0, 0, 2, 1], 0.125, 1)\n",
    "    T([0, 20, 40, 0, 10], [40, 40, 10, 5, 5], 0, 0)\n",
    "    T([40, 0, 20, 0, 10], [1000000, 40, 40, 5, 5], 0.171428,\n",
    "       0.6)\n",
    "    T([40, 20, 10, 0, 0], [40, 20, 10, 0, 0], 0.285714, 1)\n",
    "    T([1, 1, 0, 1], [0.86, 0.26, 0.52, 0.32], -0.041666,\n",
    "       -0.333333)"
   ]
  }
 ],
 "metadata": {
  "kernelspec": {
   "display_name": "Python 3",
   "language": "python",
   "name": "python3"
  },
  "language_info": {
   "codemirror_mode": {
    "name": "ipython",
    "version": 3
   },
   "file_extension": ".py",
   "mimetype": "text/x-python",
   "name": "python",
   "nbconvert_exporter": "python",
   "pygments_lexer": "ipython3",
   "version": "3.5.3"
  }
 },
 "nbformat": 4,
 "nbformat_minor": 2
}
